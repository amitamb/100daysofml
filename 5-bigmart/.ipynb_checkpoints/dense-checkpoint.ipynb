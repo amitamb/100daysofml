{
 "cells": [
  {
   "cell_type": "code",
   "execution_count": 1,
   "metadata": {},
   "outputs": [
    {
     "name": "stderr",
     "output_type": "stream",
     "text": [
      "/home/amit/anaconda3/envs/tf/lib/python3.6/importlib/_bootstrap.py:219: RuntimeWarning: numpy.dtype size changed, may indicate binary incompatibility. Expected 96, got 88\n",
      "  return f(*args, **kwds)\n",
      "/home/amit/anaconda3/envs/tf/lib/python3.6/site-packages/h5py/__init__.py:36: FutureWarning: Conversion of the second argument of issubdtype from `float` to `np.floating` is deprecated. In future, it will be treated as `np.float64 == np.dtype(float).type`.\n",
      "  from ._conv import register_converters as _register_converters\n",
      "/home/amit/anaconda3/envs/tf/lib/python3.6/importlib/_bootstrap.py:219: RuntimeWarning: numpy.dtype size changed, may indicate binary incompatibility. Expected 96, got 88\n",
      "  return f(*args, **kwds)\n",
      "/home/amit/anaconda3/envs/tf/lib/python3.6/importlib/_bootstrap.py:219: RuntimeWarning: numpy.dtype size changed, may indicate binary incompatibility. Expected 96, got 88\n",
      "  return f(*args, **kwds)\n",
      "/home/amit/anaconda3/envs/tf/lib/python3.6/importlib/_bootstrap.py:219: RuntimeWarning: numpy.dtype size changed, may indicate binary incompatibility. Expected 96, got 88\n",
      "  return f(*args, **kwds)\n",
      "Using TensorFlow backend.\n"
     ]
    }
   ],
   "source": [
    "import tensorflow as tf\n",
    "import pandas as pd\n",
    "import keras as keras\n",
    "import numpy as np\n",
    "\n",
    "%matplotlib inline"
   ]
  },
  {
   "cell_type": "code",
   "execution_count": 2,
   "metadata": {},
   "outputs": [],
   "source": [
    "DATA_DIR = \"../../data/bigmart/\"\n",
    "train_df = pd.read_csv(DATA_DIR + \"train.csv\")\n",
    "test_df = pd.read_csv(DATA_DIR + \"test.csv\")"
   ]
  },
  {
   "cell_type": "code",
   "execution_count": 3,
   "metadata": {},
   "outputs": [],
   "source": [
    "combi_df = train_df.append(test_df, ignore_index=True, sort=False)"
   ]
  },
  {
   "cell_type": "code",
   "execution_count": 4,
   "metadata": {},
   "outputs": [
    {
     "data": {
      "text/html": [
       "<div>\n",
       "<style scoped>\n",
       "    .dataframe tbody tr th:only-of-type {\n",
       "        vertical-align: middle;\n",
       "    }\n",
       "\n",
       "    .dataframe tbody tr th {\n",
       "        vertical-align: top;\n",
       "    }\n",
       "\n",
       "    .dataframe thead th {\n",
       "        text-align: right;\n",
       "    }\n",
       "</style>\n",
       "<table border=\"1\" class=\"dataframe\">\n",
       "  <thead>\n",
       "    <tr style=\"text-align: right;\">\n",
       "      <th></th>\n",
       "      <th>Item_Identifier</th>\n",
       "      <th>Item_Weight</th>\n",
       "      <th>Item_Fat_Content</th>\n",
       "      <th>Item_Visibility</th>\n",
       "      <th>Item_Type</th>\n",
       "      <th>Item_MRP</th>\n",
       "      <th>Outlet_Identifier</th>\n",
       "      <th>Outlet_Establishment_Year</th>\n",
       "      <th>Outlet_Size</th>\n",
       "      <th>Outlet_Location_Type</th>\n",
       "      <th>Outlet_Type</th>\n",
       "      <th>Item_Outlet_Sales</th>\n",
       "    </tr>\n",
       "  </thead>\n",
       "  <tbody>\n",
       "    <tr>\n",
       "      <th>0</th>\n",
       "      <td>FDA15</td>\n",
       "      <td>9.30</td>\n",
       "      <td>Low Fat</td>\n",
       "      <td>0.016047</td>\n",
       "      <td>Dairy</td>\n",
       "      <td>249.8092</td>\n",
       "      <td>OUT049</td>\n",
       "      <td>1999</td>\n",
       "      <td>Medium</td>\n",
       "      <td>Tier 1</td>\n",
       "      <td>Supermarket Type1</td>\n",
       "      <td>3735.1380</td>\n",
       "    </tr>\n",
       "    <tr>\n",
       "      <th>1</th>\n",
       "      <td>DRC01</td>\n",
       "      <td>5.92</td>\n",
       "      <td>Regular</td>\n",
       "      <td>0.019278</td>\n",
       "      <td>Soft Drinks</td>\n",
       "      <td>48.2692</td>\n",
       "      <td>OUT018</td>\n",
       "      <td>2009</td>\n",
       "      <td>Medium</td>\n",
       "      <td>Tier 3</td>\n",
       "      <td>Supermarket Type2</td>\n",
       "      <td>443.4228</td>\n",
       "    </tr>\n",
       "    <tr>\n",
       "      <th>2</th>\n",
       "      <td>FDN15</td>\n",
       "      <td>17.50</td>\n",
       "      <td>Low Fat</td>\n",
       "      <td>0.016760</td>\n",
       "      <td>Meat</td>\n",
       "      <td>141.6180</td>\n",
       "      <td>OUT049</td>\n",
       "      <td>1999</td>\n",
       "      <td>Medium</td>\n",
       "      <td>Tier 1</td>\n",
       "      <td>Supermarket Type1</td>\n",
       "      <td>2097.2700</td>\n",
       "    </tr>\n",
       "    <tr>\n",
       "      <th>3</th>\n",
       "      <td>FDX07</td>\n",
       "      <td>19.20</td>\n",
       "      <td>Regular</td>\n",
       "      <td>0.000000</td>\n",
       "      <td>Fruits and Vegetables</td>\n",
       "      <td>182.0950</td>\n",
       "      <td>OUT010</td>\n",
       "      <td>1998</td>\n",
       "      <td>NaN</td>\n",
       "      <td>Tier 3</td>\n",
       "      <td>Grocery Store</td>\n",
       "      <td>732.3800</td>\n",
       "    </tr>\n",
       "    <tr>\n",
       "      <th>4</th>\n",
       "      <td>NCD19</td>\n",
       "      <td>8.93</td>\n",
       "      <td>Low Fat</td>\n",
       "      <td>0.000000</td>\n",
       "      <td>Household</td>\n",
       "      <td>53.8614</td>\n",
       "      <td>OUT013</td>\n",
       "      <td>1987</td>\n",
       "      <td>High</td>\n",
       "      <td>Tier 3</td>\n",
       "      <td>Supermarket Type1</td>\n",
       "      <td>994.7052</td>\n",
       "    </tr>\n",
       "  </tbody>\n",
       "</table>\n",
       "</div>"
      ],
      "text/plain": [
       "  Item_Identifier  Item_Weight Item_Fat_Content  Item_Visibility  \\\n",
       "0           FDA15         9.30          Low Fat         0.016047   \n",
       "1           DRC01         5.92          Regular         0.019278   \n",
       "2           FDN15        17.50          Low Fat         0.016760   \n",
       "3           FDX07        19.20          Regular         0.000000   \n",
       "4           NCD19         8.93          Low Fat         0.000000   \n",
       "\n",
       "               Item_Type  Item_MRP Outlet_Identifier  \\\n",
       "0                  Dairy  249.8092            OUT049   \n",
       "1            Soft Drinks   48.2692            OUT018   \n",
       "2                   Meat  141.6180            OUT049   \n",
       "3  Fruits and Vegetables  182.0950            OUT010   \n",
       "4              Household   53.8614            OUT013   \n",
       "\n",
       "   Outlet_Establishment_Year Outlet_Size Outlet_Location_Type  \\\n",
       "0                       1999      Medium               Tier 1   \n",
       "1                       2009      Medium               Tier 3   \n",
       "2                       1999      Medium               Tier 1   \n",
       "3                       1998         NaN               Tier 3   \n",
       "4                       1987        High               Tier 3   \n",
       "\n",
       "         Outlet_Type  Item_Outlet_Sales  \n",
       "0  Supermarket Type1          3735.1380  \n",
       "1  Supermarket Type2           443.4228  \n",
       "2  Supermarket Type1          2097.2700  \n",
       "3      Grocery Store           732.3800  \n",
       "4  Supermarket Type1           994.7052  "
      ]
     },
     "execution_count": 4,
     "metadata": {},
     "output_type": "execute_result"
    }
   ],
   "source": [
    "combi_df.head()"
   ]
  },
  {
   "cell_type": "markdown",
   "metadata": {},
   "source": [
    "# Explore Data"
   ]
  },
  {
   "cell_type": "code",
   "execution_count": 5,
   "metadata": {},
   "outputs": [
    {
     "data": {
      "text/plain": [
       "Index(['Item_Identifier', 'Item_Weight', 'Item_Fat_Content', 'Item_Visibility',\n",
       "       'Item_Type', 'Item_MRP', 'Outlet_Identifier',\n",
       "       'Outlet_Establishment_Year', 'Outlet_Size', 'Outlet_Location_Type',\n",
       "       'Outlet_Type', 'Item_Outlet_Sales'],\n",
       "      dtype='object')"
      ]
     },
     "execution_count": 5,
     "metadata": {},
     "output_type": "execute_result"
    }
   ],
   "source": [
    "combi_df.columns"
   ]
  },
  {
   "cell_type": "code",
   "execution_count": 6,
   "metadata": {},
   "outputs": [
    {
     "data": {
      "text/html": [
       "<div>\n",
       "<style scoped>\n",
       "    .dataframe tbody tr th:only-of-type {\n",
       "        vertical-align: middle;\n",
       "    }\n",
       "\n",
       "    .dataframe tbody tr th {\n",
       "        vertical-align: top;\n",
       "    }\n",
       "\n",
       "    .dataframe thead th {\n",
       "        text-align: right;\n",
       "    }\n",
       "</style>\n",
       "<table border=\"1\" class=\"dataframe\">\n",
       "  <thead>\n",
       "    <tr style=\"text-align: right;\">\n",
       "      <th></th>\n",
       "      <th>Item_Identifier</th>\n",
       "      <th>Item_Weight</th>\n",
       "      <th>Item_Fat_Content</th>\n",
       "      <th>Item_Visibility</th>\n",
       "      <th>Item_Type</th>\n",
       "      <th>Item_MRP</th>\n",
       "      <th>Outlet_Identifier</th>\n",
       "      <th>Outlet_Establishment_Year</th>\n",
       "      <th>Outlet_Size</th>\n",
       "      <th>Outlet_Location_Type</th>\n",
       "      <th>Outlet_Type</th>\n",
       "      <th>Item_Outlet_Sales</th>\n",
       "    </tr>\n",
       "  </thead>\n",
       "  <tbody>\n",
       "    <tr>\n",
       "      <th>0</th>\n",
       "      <td>FDA15</td>\n",
       "      <td>9.30</td>\n",
       "      <td>Low Fat</td>\n",
       "      <td>0.016047</td>\n",
       "      <td>Dairy</td>\n",
       "      <td>249.8092</td>\n",
       "      <td>OUT049</td>\n",
       "      <td>1999</td>\n",
       "      <td>Medium</td>\n",
       "      <td>Tier 1</td>\n",
       "      <td>Supermarket Type1</td>\n",
       "      <td>3735.1380</td>\n",
       "    </tr>\n",
       "    <tr>\n",
       "      <th>1</th>\n",
       "      <td>DRC01</td>\n",
       "      <td>5.92</td>\n",
       "      <td>Regular</td>\n",
       "      <td>0.019278</td>\n",
       "      <td>Soft Drinks</td>\n",
       "      <td>48.2692</td>\n",
       "      <td>OUT018</td>\n",
       "      <td>2009</td>\n",
       "      <td>Medium</td>\n",
       "      <td>Tier 3</td>\n",
       "      <td>Supermarket Type2</td>\n",
       "      <td>443.4228</td>\n",
       "    </tr>\n",
       "    <tr>\n",
       "      <th>2</th>\n",
       "      <td>FDN15</td>\n",
       "      <td>17.50</td>\n",
       "      <td>Low Fat</td>\n",
       "      <td>0.016760</td>\n",
       "      <td>Meat</td>\n",
       "      <td>141.6180</td>\n",
       "      <td>OUT049</td>\n",
       "      <td>1999</td>\n",
       "      <td>Medium</td>\n",
       "      <td>Tier 1</td>\n",
       "      <td>Supermarket Type1</td>\n",
       "      <td>2097.2700</td>\n",
       "    </tr>\n",
       "    <tr>\n",
       "      <th>3</th>\n",
       "      <td>FDX07</td>\n",
       "      <td>19.20</td>\n",
       "      <td>Regular</td>\n",
       "      <td>0.000000</td>\n",
       "      <td>Fruits and Vegetables</td>\n",
       "      <td>182.0950</td>\n",
       "      <td>OUT010</td>\n",
       "      <td>1998</td>\n",
       "      <td>NaN</td>\n",
       "      <td>Tier 3</td>\n",
       "      <td>Grocery Store</td>\n",
       "      <td>732.3800</td>\n",
       "    </tr>\n",
       "    <tr>\n",
       "      <th>4</th>\n",
       "      <td>NCD19</td>\n",
       "      <td>8.93</td>\n",
       "      <td>Low Fat</td>\n",
       "      <td>0.000000</td>\n",
       "      <td>Household</td>\n",
       "      <td>53.8614</td>\n",
       "      <td>OUT013</td>\n",
       "      <td>1987</td>\n",
       "      <td>High</td>\n",
       "      <td>Tier 3</td>\n",
       "      <td>Supermarket Type1</td>\n",
       "      <td>994.7052</td>\n",
       "    </tr>\n",
       "  </tbody>\n",
       "</table>\n",
       "</div>"
      ],
      "text/plain": [
       "  Item_Identifier  Item_Weight Item_Fat_Content  Item_Visibility  \\\n",
       "0           FDA15         9.30          Low Fat         0.016047   \n",
       "1           DRC01         5.92          Regular         0.019278   \n",
       "2           FDN15        17.50          Low Fat         0.016760   \n",
       "3           FDX07        19.20          Regular         0.000000   \n",
       "4           NCD19         8.93          Low Fat         0.000000   \n",
       "\n",
       "               Item_Type  Item_MRP Outlet_Identifier  \\\n",
       "0                  Dairy  249.8092            OUT049   \n",
       "1            Soft Drinks   48.2692            OUT018   \n",
       "2                   Meat  141.6180            OUT049   \n",
       "3  Fruits and Vegetables  182.0950            OUT010   \n",
       "4              Household   53.8614            OUT013   \n",
       "\n",
       "   Outlet_Establishment_Year Outlet_Size Outlet_Location_Type  \\\n",
       "0                       1999      Medium               Tier 1   \n",
       "1                       2009      Medium               Tier 3   \n",
       "2                       1999      Medium               Tier 1   \n",
       "3                       1998         NaN               Tier 3   \n",
       "4                       1987        High               Tier 3   \n",
       "\n",
       "         Outlet_Type  Item_Outlet_Sales  \n",
       "0  Supermarket Type1          3735.1380  \n",
       "1  Supermarket Type2           443.4228  \n",
       "2  Supermarket Type1          2097.2700  \n",
       "3      Grocery Store           732.3800  \n",
       "4  Supermarket Type1           994.7052  "
      ]
     },
     "execution_count": 6,
     "metadata": {},
     "output_type": "execute_result"
    }
   ],
   "source": [
    "combi_df.head()"
   ]
  },
  {
   "cell_type": "code",
   "execution_count": 7,
   "metadata": {},
   "outputs": [
    {
     "data": {
      "text/plain": [
       "Item_Identifier               object\n",
       "Item_Weight                  float64\n",
       "Item_Fat_Content              object\n",
       "Item_Visibility              float64\n",
       "Item_Type                     object\n",
       "Item_MRP                     float64\n",
       "Outlet_Identifier             object\n",
       "Outlet_Establishment_Year      int64\n",
       "Outlet_Size                   object\n",
       "Outlet_Location_Type          object\n",
       "Outlet_Type                   object\n",
       "Item_Outlet_Sales            float64\n",
       "dtype: object"
      ]
     },
     "execution_count": 7,
     "metadata": {},
     "output_type": "execute_result"
    }
   ],
   "source": [
    "combi_df.dtypes"
   ]
  },
  {
   "cell_type": "code",
   "execution_count": 8,
   "metadata": {
    "scrolled": true
   },
   "outputs": [
    {
     "data": {
      "text/html": [
       "<div>\n",
       "<style scoped>\n",
       "    .dataframe tbody tr th:only-of-type {\n",
       "        vertical-align: middle;\n",
       "    }\n",
       "\n",
       "    .dataframe tbody tr th {\n",
       "        vertical-align: top;\n",
       "    }\n",
       "\n",
       "    .dataframe thead th {\n",
       "        text-align: right;\n",
       "    }\n",
       "</style>\n",
       "<table border=\"1\" class=\"dataframe\">\n",
       "  <thead>\n",
       "    <tr style=\"text-align: right;\">\n",
       "      <th></th>\n",
       "      <th>Item_Weight</th>\n",
       "      <th>Item_Visibility</th>\n",
       "      <th>Item_MRP</th>\n",
       "      <th>Outlet_Establishment_Year</th>\n",
       "      <th>Item_Outlet_Sales</th>\n",
       "    </tr>\n",
       "  </thead>\n",
       "  <tbody>\n",
       "    <tr>\n",
       "      <th>count</th>\n",
       "      <td>11765.000000</td>\n",
       "      <td>14204.000000</td>\n",
       "      <td>14204.000000</td>\n",
       "      <td>14204.000000</td>\n",
       "      <td>8523.000000</td>\n",
       "    </tr>\n",
       "    <tr>\n",
       "      <th>mean</th>\n",
       "      <td>12.792854</td>\n",
       "      <td>0.065953</td>\n",
       "      <td>141.004977</td>\n",
       "      <td>1997.830681</td>\n",
       "      <td>2181.288914</td>\n",
       "    </tr>\n",
       "    <tr>\n",
       "      <th>std</th>\n",
       "      <td>4.652502</td>\n",
       "      <td>0.051459</td>\n",
       "      <td>62.086938</td>\n",
       "      <td>8.371664</td>\n",
       "      <td>1706.499616</td>\n",
       "    </tr>\n",
       "    <tr>\n",
       "      <th>min</th>\n",
       "      <td>4.555000</td>\n",
       "      <td>0.000000</td>\n",
       "      <td>31.290000</td>\n",
       "      <td>1985.000000</td>\n",
       "      <td>33.290000</td>\n",
       "    </tr>\n",
       "    <tr>\n",
       "      <th>25%</th>\n",
       "      <td>8.710000</td>\n",
       "      <td>0.027036</td>\n",
       "      <td>94.012000</td>\n",
       "      <td>1987.000000</td>\n",
       "      <td>834.247400</td>\n",
       "    </tr>\n",
       "    <tr>\n",
       "      <th>50%</th>\n",
       "      <td>12.600000</td>\n",
       "      <td>0.054021</td>\n",
       "      <td>142.247000</td>\n",
       "      <td>1999.000000</td>\n",
       "      <td>1794.331000</td>\n",
       "    </tr>\n",
       "    <tr>\n",
       "      <th>75%</th>\n",
       "      <td>16.750000</td>\n",
       "      <td>0.094037</td>\n",
       "      <td>185.855600</td>\n",
       "      <td>2004.000000</td>\n",
       "      <td>3101.296400</td>\n",
       "    </tr>\n",
       "    <tr>\n",
       "      <th>max</th>\n",
       "      <td>21.350000</td>\n",
       "      <td>0.328391</td>\n",
       "      <td>266.888400</td>\n",
       "      <td>2009.000000</td>\n",
       "      <td>13086.964800</td>\n",
       "    </tr>\n",
       "  </tbody>\n",
       "</table>\n",
       "</div>"
      ],
      "text/plain": [
       "        Item_Weight  Item_Visibility      Item_MRP  Outlet_Establishment_Year  \\\n",
       "count  11765.000000     14204.000000  14204.000000               14204.000000   \n",
       "mean      12.792854         0.065953    141.004977                1997.830681   \n",
       "std        4.652502         0.051459     62.086938                   8.371664   \n",
       "min        4.555000         0.000000     31.290000                1985.000000   \n",
       "25%        8.710000         0.027036     94.012000                1987.000000   \n",
       "50%       12.600000         0.054021    142.247000                1999.000000   \n",
       "75%       16.750000         0.094037    185.855600                2004.000000   \n",
       "max       21.350000         0.328391    266.888400                2009.000000   \n",
       "\n",
       "       Item_Outlet_Sales  \n",
       "count        8523.000000  \n",
       "mean         2181.288914  \n",
       "std          1706.499616  \n",
       "min            33.290000  \n",
       "25%           834.247400  \n",
       "50%          1794.331000  \n",
       "75%          3101.296400  \n",
       "max         13086.964800  "
      ]
     },
     "execution_count": 8,
     "metadata": {},
     "output_type": "execute_result"
    }
   ],
   "source": [
    "combi_df.describe()"
   ]
  },
  {
   "cell_type": "code",
   "execution_count": 9,
   "metadata": {},
   "outputs": [
    {
     "data": {
      "text/plain": [
       "0        False\n",
       "1        False\n",
       "2        False\n",
       "3        False\n",
       "4        False\n",
       "5        False\n",
       "6        False\n",
       "7         True\n",
       "8        False\n",
       "9        False\n",
       "10       False\n",
       "11       False\n",
       "12       False\n",
       "13       False\n",
       "14       False\n",
       "15       False\n",
       "16       False\n",
       "17       False\n",
       "18        True\n",
       "19       False\n",
       "20       False\n",
       "21        True\n",
       "22       False\n",
       "23        True\n",
       "24       False\n",
       "25       False\n",
       "26       False\n",
       "27       False\n",
       "28       False\n",
       "29        True\n",
       "         ...  \n",
       "14174    False\n",
       "14175    False\n",
       "14176    False\n",
       "14177    False\n",
       "14178     True\n",
       "14179     True\n",
       "14180    False\n",
       "14181    False\n",
       "14182    False\n",
       "14183    False\n",
       "14184     True\n",
       "14185    False\n",
       "14186    False\n",
       "14187    False\n",
       "14188     True\n",
       "14189    False\n",
       "14190    False\n",
       "14191    False\n",
       "14192     True\n",
       "14193    False\n",
       "14194    False\n",
       "14195    False\n",
       "14196    False\n",
       "14197    False\n",
       "14198    False\n",
       "14199    False\n",
       "14200    False\n",
       "14201    False\n",
       "14202    False\n",
       "14203    False\n",
       "Name: Item_Weight, Length: 14204, dtype: bool"
      ]
     },
     "execution_count": 9,
     "metadata": {},
     "output_type": "execute_result"
    }
   ],
   "source": [
    "combi_df[\"Item_Weight\"].isnull()"
   ]
  },
  {
   "cell_type": "code",
   "execution_count": null,
   "metadata": {},
   "outputs": [],
   "source": []
  },
  {
   "cell_type": "code",
   "execution_count": 10,
   "metadata": {},
   "outputs": [
    {
     "data": {
      "text/plain": [
       "(1559,)"
      ]
     },
     "execution_count": 10,
     "metadata": {},
     "output_type": "execute_result"
    }
   ],
   "source": [
    "combi_df['Item_Identifier'].unique().shape"
   ]
  },
  {
   "cell_type": "code",
   "execution_count": 11,
   "metadata": {},
   "outputs": [
    {
     "data": {
      "text/plain": [
       "array(['Low Fat', 'Regular', 'low fat', 'LF', 'reg'], dtype=object)"
      ]
     },
     "execution_count": 11,
     "metadata": {},
     "output_type": "execute_result"
    }
   ],
   "source": [
    "combi_df['Item_Fat_Content'].unique()"
   ]
  },
  {
   "cell_type": "code",
   "execution_count": 12,
   "metadata": {},
   "outputs": [
    {
     "data": {
      "text/plain": [
       "array(['Dairy', 'Soft Drinks', 'Meat', 'Fruits and Vegetables',\n",
       "       'Household', 'Baking Goods', 'Snack Foods', 'Frozen Foods',\n",
       "       'Breakfast', 'Health and Hygiene', 'Hard Drinks', 'Canned',\n",
       "       'Breads', 'Starchy Foods', 'Others', 'Seafood'], dtype=object)"
      ]
     },
     "execution_count": 12,
     "metadata": {},
     "output_type": "execute_result"
    }
   ],
   "source": [
    "combi_df['Item_Type'].unique()"
   ]
  },
  {
   "cell_type": "code",
   "execution_count": 13,
   "metadata": {},
   "outputs": [
    {
     "data": {
      "text/plain": [
       "array(['OUT049', 'OUT018', 'OUT010', 'OUT013', 'OUT027', 'OUT045',\n",
       "       'OUT017', 'OUT046', 'OUT035', 'OUT019'], dtype=object)"
      ]
     },
     "execution_count": 13,
     "metadata": {},
     "output_type": "execute_result"
    }
   ],
   "source": [
    "combi_df['Outlet_Identifier'].unique()"
   ]
  },
  {
   "cell_type": "code",
   "execution_count": 14,
   "metadata": {},
   "outputs": [
    {
     "data": {
      "text/plain": [
       "array(['Medium', nan, 'High', 'Small'], dtype=object)"
      ]
     },
     "execution_count": 14,
     "metadata": {},
     "output_type": "execute_result"
    }
   ],
   "source": [
    "combi_df['Outlet_Size'].unique()"
   ]
  },
  {
   "cell_type": "code",
   "execution_count": 15,
   "metadata": {},
   "outputs": [
    {
     "data": {
      "text/plain": [
       "array(['Tier 1', 'Tier 3', 'Tier 2'], dtype=object)"
      ]
     },
     "execution_count": 15,
     "metadata": {},
     "output_type": "execute_result"
    }
   ],
   "source": [
    "combi_df['Outlet_Location_Type'].unique()"
   ]
  },
  {
   "cell_type": "code",
   "execution_count": 16,
   "metadata": {},
   "outputs": [
    {
     "data": {
      "text/plain": [
       "array(['Supermarket Type1', 'Supermarket Type2', 'Grocery Store',\n",
       "       'Supermarket Type3'], dtype=object)"
      ]
     },
     "execution_count": 16,
     "metadata": {},
     "output_type": "execute_result"
    }
   ],
   "source": [
    "combi_df['Outlet_Type'].unique()"
   ]
  },
  {
   "cell_type": "markdown",
   "metadata": {},
   "source": [
    "# Do basic cleanup"
   ]
  },
  {
   "cell_type": "code",
   "execution_count": 17,
   "metadata": {},
   "outputs": [
    {
     "data": {
      "text/plain": [
       "array(['Low Fat', 'Regular'], dtype=object)"
      ]
     },
     "execution_count": 17,
     "metadata": {},
     "output_type": "execute_result"
    }
   ],
   "source": [
    "ifc_dict = { \"low fat\": \"Low Fat\", \"LF\": \"Low Fat\", \"reg\": \"Regular\" }\n",
    "combi_df['Item_Fat_Content_Fixed'] = combi_df['Item_Fat_Content'].apply(lambda x: ifc_dict.get(x, x))\n",
    "combi_df['Item_Fat_Content_Fixed'].unique()"
   ]
  },
  {
   "cell_type": "code",
   "execution_count": 18,
   "metadata": {},
   "outputs": [
    {
     "data": {
      "text/plain": [
       "array(['Medium', 'Unknown', 'High', 'Small'], dtype=object)"
      ]
     },
     "execution_count": 18,
     "metadata": {},
     "output_type": "execute_result"
    }
   ],
   "source": [
    "ifc_dict = { \"low fat\": \"Low Fat\", \"LF\": \"Low Fat\", \"reg\": \"Regular\" }\n",
    "combi_df['Outlet_Size_Fixed'] = combi_df['Outlet_Size'].apply(lambda x: x if not pd.isna(x) else \"Unknown\" )\n",
    "combi_df['Outlet_Size_Fixed'].unique()"
   ]
  },
  {
   "cell_type": "code",
   "execution_count": 19,
   "metadata": {},
   "outputs": [],
   "source": [
    "min_year = combi_df['Outlet_Establishment_Year'].min()\n",
    "combi_df['Outlet_Establisted_Years'] = combi_df['Outlet_Establishment_Year'].apply(lambda x: x - min_year)"
   ]
  },
  {
   "cell_type": "code",
   "execution_count": 20,
   "metadata": {},
   "outputs": [],
   "source": [
    "combi_df['Item_Weight'] = combi_df['Item_Weight'].apply(lambda x: 0 if pd.isna(x) else x )\n",
    "combi_df['Item_Visibility'] = combi_df['Item_Visibility'].apply(lambda x: 0 if pd.isna(x) else x )\n",
    "combi_df['Item_MRP'] = combi_df['Item_MRP'].apply(lambda x: 0 if pd.isna(x) else x )\n",
    "combi_df['Outlet_Establisted_Years'] = combi_df['Outlet_Establisted_Years'].apply(lambda x: 0 if pd.isna(x) else x )"
   ]
  },
  {
   "cell_type": "code",
   "execution_count": null,
   "metadata": {},
   "outputs": [],
   "source": []
  },
  {
   "cell_type": "code",
   "execution_count": null,
   "metadata": {},
   "outputs": [],
   "source": []
  },
  {
   "cell_type": "code",
   "execution_count": 21,
   "metadata": {},
   "outputs": [],
   "source": [
    "# combi_df.head()"
   ]
  },
  {
   "cell_type": "markdown",
   "metadata": {},
   "source": [
    "# Preprocessing with labels"
   ]
  },
  {
   "cell_type": "code",
   "execution_count": 22,
   "metadata": {},
   "outputs": [
    {
     "name": "stdout",
     "output_type": "stream",
     "text": [
      "['Low Fat' 'Regular']\n"
     ]
    },
    {
     "name": "stderr",
     "output_type": "stream",
     "text": [
      "/home/amit/anaconda3/envs/tf/lib/python3.6/importlib/_bootstrap.py:219: RuntimeWarning: numpy.dtype size changed, may indicate binary incompatibility. Expected 96, got 88\n",
      "  return f(*args, **kwds)\n",
      "/home/amit/anaconda3/envs/tf/lib/python3.6/importlib/_bootstrap.py:219: RuntimeWarning: numpy.dtype size changed, may indicate binary incompatibility. Expected 96, got 88\n",
      "  return f(*args, **kwds)\n"
     ]
    }
   ],
   "source": [
    "from sklearn import preprocessing\n",
    "\n",
    "le = preprocessing.LabelEncoder()\n",
    "le.fit(combi_df['Item_Fat_Content_Fixed'])\n",
    "\n",
    "print(le.classes_)\n",
    "\n",
    "combi_df['Item_Fat_Content_Fixed'] = le.transform(combi_df['Item_Fat_Content_Fixed'])"
   ]
  },
  {
   "cell_type": "code",
   "execution_count": 23,
   "metadata": {},
   "outputs": [
    {
     "name": "stdout",
     "output_type": "stream",
     "text": [
      "['Baking Goods' 'Breads' 'Breakfast' 'Canned' 'Dairy' 'Frozen Foods'\n",
      " 'Fruits and Vegetables' 'Hard Drinks' 'Health and Hygiene' 'Household'\n",
      " 'Meat' 'Others' 'Seafood' 'Snack Foods' 'Soft Drinks' 'Starchy Foods']\n"
     ]
    }
   ],
   "source": [
    "le = preprocessing.LabelEncoder()\n",
    "le.fit(combi_df['Item_Type'])\n",
    "\n",
    "print(le.classes_)\n",
    "\n",
    "combi_df['Item_Type'] = le.transform(combi_df['Item_Type'])"
   ]
  },
  {
   "cell_type": "code",
   "execution_count": 24,
   "metadata": {},
   "outputs": [
    {
     "name": "stdout",
     "output_type": "stream",
     "text": [
      "['OUT010' 'OUT013' 'OUT017' 'OUT018' 'OUT019' 'OUT027' 'OUT035' 'OUT045'\n",
      " 'OUT046' 'OUT049']\n"
     ]
    }
   ],
   "source": [
    "le = preprocessing.LabelEncoder()\n",
    "le.fit(combi_df['Outlet_Identifier'])\n",
    "\n",
    "print(le.classes_)\n",
    "\n",
    "combi_df['Outlet_Identifier'] = le.transform(combi_df['Outlet_Identifier'])"
   ]
  },
  {
   "cell_type": "code",
   "execution_count": 25,
   "metadata": {},
   "outputs": [
    {
     "name": "stdout",
     "output_type": "stream",
     "text": [
      "['High' 'Medium' 'Small' 'Unknown']\n"
     ]
    }
   ],
   "source": [
    "le = preprocessing.LabelEncoder()\n",
    "le.fit(combi_df['Outlet_Size_Fixed'])\n",
    "\n",
    "print(le.classes_)\n",
    "\n",
    "combi_df['Outlet_Size_Fixed'] = le.transform(combi_df['Outlet_Size_Fixed'])"
   ]
  },
  {
   "cell_type": "code",
   "execution_count": 26,
   "metadata": {},
   "outputs": [
    {
     "name": "stdout",
     "output_type": "stream",
     "text": [
      "['Tier 1' 'Tier 2' 'Tier 3']\n"
     ]
    }
   ],
   "source": [
    "le = preprocessing.LabelEncoder()\n",
    "le.fit(combi_df['Outlet_Location_Type'])\n",
    "\n",
    "print(le.classes_)\n",
    "\n",
    "combi_df['Outlet_Location_Type'] = le.transform(combi_df['Outlet_Location_Type'])"
   ]
  },
  {
   "cell_type": "code",
   "execution_count": 27,
   "metadata": {},
   "outputs": [
    {
     "name": "stdout",
     "output_type": "stream",
     "text": [
      "['Grocery Store' 'Supermarket Type1' 'Supermarket Type2'\n",
      " 'Supermarket Type3']\n"
     ]
    }
   ],
   "source": [
    "le = preprocessing.LabelEncoder()\n",
    "le.fit(combi_df['Outlet_Type'])\n",
    "\n",
    "print(le.classes_)\n",
    "\n",
    "combi_df['Outlet_Type'] = le.transform(combi_df['Outlet_Type'])"
   ]
  },
  {
   "cell_type": "code",
   "execution_count": 28,
   "metadata": {},
   "outputs": [],
   "source": [
    "le = preprocessing.LabelEncoder()\n",
    "combi_df['Item_Identifier_Label'] = le.fit_transform(combi_df['Item_Identifier'])"
   ]
  },
  {
   "cell_type": "code",
   "execution_count": 29,
   "metadata": {},
   "outputs": [
    {
     "data": {
      "text/html": [
       "<div>\n",
       "<style scoped>\n",
       "    .dataframe tbody tr th:only-of-type {\n",
       "        vertical-align: middle;\n",
       "    }\n",
       "\n",
       "    .dataframe tbody tr th {\n",
       "        vertical-align: top;\n",
       "    }\n",
       "\n",
       "    .dataframe thead th {\n",
       "        text-align: right;\n",
       "    }\n",
       "</style>\n",
       "<table border=\"1\" class=\"dataframe\">\n",
       "  <thead>\n",
       "    <tr style=\"text-align: right;\">\n",
       "      <th></th>\n",
       "      <th>Item_Identifier</th>\n",
       "      <th>Item_Weight</th>\n",
       "      <th>Item_Fat_Content</th>\n",
       "      <th>Item_Visibility</th>\n",
       "      <th>Item_Type</th>\n",
       "      <th>Item_MRP</th>\n",
       "      <th>Outlet_Identifier</th>\n",
       "      <th>Outlet_Establishment_Year</th>\n",
       "      <th>Outlet_Size</th>\n",
       "      <th>Outlet_Location_Type</th>\n",
       "      <th>Outlet_Type</th>\n",
       "      <th>Item_Outlet_Sales</th>\n",
       "      <th>Item_Fat_Content_Fixed</th>\n",
       "      <th>Outlet_Size_Fixed</th>\n",
       "      <th>Outlet_Establisted_Years</th>\n",
       "      <th>Item_Identifier_Label</th>\n",
       "    </tr>\n",
       "  </thead>\n",
       "  <tbody>\n",
       "    <tr>\n",
       "      <th>0</th>\n",
       "      <td>FDA15</td>\n",
       "      <td>9.30</td>\n",
       "      <td>Low Fat</td>\n",
       "      <td>0.016047</td>\n",
       "      <td>4</td>\n",
       "      <td>249.8092</td>\n",
       "      <td>9</td>\n",
       "      <td>1999</td>\n",
       "      <td>Medium</td>\n",
       "      <td>0</td>\n",
       "      <td>1</td>\n",
       "      <td>3735.1380</td>\n",
       "      <td>0</td>\n",
       "      <td>1</td>\n",
       "      <td>14</td>\n",
       "      <td>156</td>\n",
       "    </tr>\n",
       "    <tr>\n",
       "      <th>1</th>\n",
       "      <td>DRC01</td>\n",
       "      <td>5.92</td>\n",
       "      <td>Regular</td>\n",
       "      <td>0.019278</td>\n",
       "      <td>14</td>\n",
       "      <td>48.2692</td>\n",
       "      <td>3</td>\n",
       "      <td>2009</td>\n",
       "      <td>Medium</td>\n",
       "      <td>2</td>\n",
       "      <td>2</td>\n",
       "      <td>443.4228</td>\n",
       "      <td>1</td>\n",
       "      <td>1</td>\n",
       "      <td>24</td>\n",
       "      <td>8</td>\n",
       "    </tr>\n",
       "    <tr>\n",
       "      <th>2</th>\n",
       "      <td>FDN15</td>\n",
       "      <td>17.50</td>\n",
       "      <td>Low Fat</td>\n",
       "      <td>0.016760</td>\n",
       "      <td>10</td>\n",
       "      <td>141.6180</td>\n",
       "      <td>9</td>\n",
       "      <td>1999</td>\n",
       "      <td>Medium</td>\n",
       "      <td>0</td>\n",
       "      <td>1</td>\n",
       "      <td>2097.2700</td>\n",
       "      <td>0</td>\n",
       "      <td>1</td>\n",
       "      <td>14</td>\n",
       "      <td>662</td>\n",
       "    </tr>\n",
       "    <tr>\n",
       "      <th>3</th>\n",
       "      <td>FDX07</td>\n",
       "      <td>19.20</td>\n",
       "      <td>Regular</td>\n",
       "      <td>0.000000</td>\n",
       "      <td>6</td>\n",
       "      <td>182.0950</td>\n",
       "      <td>0</td>\n",
       "      <td>1998</td>\n",
       "      <td>NaN</td>\n",
       "      <td>2</td>\n",
       "      <td>0</td>\n",
       "      <td>732.3800</td>\n",
       "      <td>1</td>\n",
       "      <td>3</td>\n",
       "      <td>13</td>\n",
       "      <td>1121</td>\n",
       "    </tr>\n",
       "    <tr>\n",
       "      <th>4</th>\n",
       "      <td>NCD19</td>\n",
       "      <td>8.93</td>\n",
       "      <td>Low Fat</td>\n",
       "      <td>0.000000</td>\n",
       "      <td>9</td>\n",
       "      <td>53.8614</td>\n",
       "      <td>1</td>\n",
       "      <td>1987</td>\n",
       "      <td>High</td>\n",
       "      <td>2</td>\n",
       "      <td>1</td>\n",
       "      <td>994.7052</td>\n",
       "      <td>0</td>\n",
       "      <td>0</td>\n",
       "      <td>2</td>\n",
       "      <td>1297</td>\n",
       "    </tr>\n",
       "  </tbody>\n",
       "</table>\n",
       "</div>"
      ],
      "text/plain": [
       "  Item_Identifier  Item_Weight Item_Fat_Content  Item_Visibility  Item_Type  \\\n",
       "0           FDA15         9.30          Low Fat         0.016047          4   \n",
       "1           DRC01         5.92          Regular         0.019278         14   \n",
       "2           FDN15        17.50          Low Fat         0.016760         10   \n",
       "3           FDX07        19.20          Regular         0.000000          6   \n",
       "4           NCD19         8.93          Low Fat         0.000000          9   \n",
       "\n",
       "   Item_MRP  Outlet_Identifier  Outlet_Establishment_Year Outlet_Size  \\\n",
       "0  249.8092                  9                       1999      Medium   \n",
       "1   48.2692                  3                       2009      Medium   \n",
       "2  141.6180                  9                       1999      Medium   \n",
       "3  182.0950                  0                       1998         NaN   \n",
       "4   53.8614                  1                       1987        High   \n",
       "\n",
       "   Outlet_Location_Type  Outlet_Type  Item_Outlet_Sales  \\\n",
       "0                     0            1          3735.1380   \n",
       "1                     2            2           443.4228   \n",
       "2                     0            1          2097.2700   \n",
       "3                     2            0           732.3800   \n",
       "4                     2            1           994.7052   \n",
       "\n",
       "   Item_Fat_Content_Fixed  Outlet_Size_Fixed  Outlet_Establisted_Years  \\\n",
       "0                       0                  1                        14   \n",
       "1                       1                  1                        24   \n",
       "2                       0                  1                        14   \n",
       "3                       1                  3                        13   \n",
       "4                       0                  0                         2   \n",
       "\n",
       "   Item_Identifier_Label  \n",
       "0                    156  \n",
       "1                      8  \n",
       "2                    662  \n",
       "3                   1121  \n",
       "4                   1297  "
      ]
     },
     "execution_count": 29,
     "metadata": {},
     "output_type": "execute_result"
    }
   ],
   "source": [
    "combi_df.head()"
   ]
  },
  {
   "cell_type": "markdown",
   "metadata": {},
   "source": [
    "# One hot encode"
   ]
  },
  {
   "cell_type": "code",
   "execution_count": 30,
   "metadata": {},
   "outputs": [],
   "source": [
    "from scipy import sparse\n",
    "hot_encoded = None"
   ]
  },
  {
   "cell_type": "code",
   "execution_count": 31,
   "metadata": {},
   "outputs": [],
   "source": [
    "hot_encoded = np.array(combi_df['Item_Fat_Content_Fixed']).reshape(len(combi_df), 1)"
   ]
  },
  {
   "cell_type": "code",
   "execution_count": 32,
   "metadata": {},
   "outputs": [
    {
     "data": {
      "text/plain": [
       "(14204, 17)"
      ]
     },
     "execution_count": 32,
     "metadata": {},
     "output_type": "execute_result"
    }
   ],
   "source": [
    "ohe = preprocessing.OneHotEncoder()\n",
    "out = ohe.fit_transform(np.array(combi_df['Item_Type']).reshape(-1, 1))\n",
    "hot_encoded = sparse.hstack((hot_encoded, out))\n",
    "hot_encoded.shape"
   ]
  },
  {
   "cell_type": "code",
   "execution_count": 33,
   "metadata": {},
   "outputs": [
    {
     "data": {
      "text/plain": [
       "(14204, 21)"
      ]
     },
     "execution_count": 33,
     "metadata": {},
     "output_type": "execute_result"
    }
   ],
   "source": [
    "ohe = preprocessing.OneHotEncoder()\n",
    "out = ohe.fit_transform(np.array(combi_df['Outlet_Size_Fixed']).reshape(-1, 1))\n",
    "hot_encoded = sparse.hstack((hot_encoded, out))\n",
    "hot_encoded.shape"
   ]
  },
  {
   "cell_type": "code",
   "execution_count": 34,
   "metadata": {},
   "outputs": [
    {
     "data": {
      "text/plain": [
       "(14204, 24)"
      ]
     },
     "execution_count": 34,
     "metadata": {},
     "output_type": "execute_result"
    }
   ],
   "source": [
    "ohe = preprocessing.OneHotEncoder()\n",
    "out = ohe.fit_transform(np.array(combi_df['Outlet_Location_Type']).reshape(-1, 1))\n",
    "hot_encoded = sparse.hstack((hot_encoded, out))\n",
    "hot_encoded.shape"
   ]
  },
  {
   "cell_type": "code",
   "execution_count": 35,
   "metadata": {},
   "outputs": [
    {
     "data": {
      "text/plain": [
       "(14204, 28)"
      ]
     },
     "execution_count": 35,
     "metadata": {},
     "output_type": "execute_result"
    }
   ],
   "source": [
    "ohe = preprocessing.OneHotEncoder()\n",
    "out = ohe.fit_transform(np.array(combi_df['Outlet_Type']).reshape(-1, 1))\n",
    "hot_encoded = sparse.hstack((hot_encoded, out))\n",
    "hot_encoded.shape"
   ]
  },
  {
   "cell_type": "code",
   "execution_count": 36,
   "metadata": {},
   "outputs": [
    {
     "data": {
      "text/plain": [
       "(14204, 38)"
      ]
     },
     "execution_count": 36,
     "metadata": {},
     "output_type": "execute_result"
    }
   ],
   "source": [
    "ohe = preprocessing.OneHotEncoder()\n",
    "out = ohe.fit_transform(np.array(combi_df['Outlet_Identifier']).reshape(-1, 1))\n",
    "hot_encoded = sparse.hstack((hot_encoded, out))\n",
    "hot_encoded.shape"
   ]
  },
  {
   "cell_type": "markdown",
   "metadata": {},
   "source": [
    "# Embedding layer"
   ]
  },
  {
   "cell_type": "code",
   "execution_count": 56,
   "metadata": {},
   "outputs": [
    {
     "name": "stdout",
     "output_type": "stream",
     "text": [
      "_________________________________________________________________\n",
      "Layer (type)                 Output Shape              Param #   \n",
      "=================================================================\n",
      "embedding_16 (Embedding)     (None, 1, 5)              7800      \n",
      "_________________________________________________________________\n",
      "flatten_3 (Flatten)          (None, 5)                 0         \n",
      "=================================================================\n",
      "Total params: 7,800\n",
      "Trainable params: 7,800\n",
      "Non-trainable params: 0\n",
      "_________________________________________________________________\n"
     ]
    }
   ],
   "source": [
    "# TODO: Add later\n",
    "from keras.models import *\n",
    "from keras.layers import *\n",
    "\n",
    "num_items = len(combi_df[\"Item_Identifier\"].unique()) + 1\n",
    "EMBEDDING_DIM = 5\n",
    "\n",
    "\n",
    "\n",
    "# TODO: Try later\n",
    "# model = Sequential()\n",
    "# model.add(Embedding(num_items, EMBEDDING_DIM, input_length=1))\n",
    "# model.add(Flatten())\n",
    "# model.add(Concatenate())\n",
    "# model.summary()"
   ]
  },
  {
   "cell_type": "code",
   "execution_count": 287,
   "metadata": {},
   "outputs": [],
   "source": [
    "# len(combi_df[\"Item_Identifier\"].unique())"
   ]
  },
  {
   "cell_type": "code",
   "execution_count": null,
   "metadata": {},
   "outputs": [],
   "source": []
  },
  {
   "cell_type": "markdown",
   "metadata": {},
   "source": [
    "# Prepare full data"
   ]
  },
  {
   "cell_type": "code",
   "execution_count": null,
   "metadata": {},
   "outputs": [],
   "source": []
  },
  {
   "cell_type": "code",
   "execution_count": null,
   "metadata": {},
   "outputs": [],
   "source": []
  },
  {
   "cell_type": "code",
   "execution_count": 199,
   "metadata": {},
   "outputs": [
    {
     "data": {
      "text/plain": [
       "(14204, 42)"
      ]
     },
     "execution_count": 199,
     "metadata": {},
     "output_type": "execute_result"
    }
   ],
   "source": [
    "combi_X = np.column_stack((combi_df[\"Item_Weight\"], combi_df[\"Item_Visibility\"],\n",
    "                          combi_df[\"Item_MRP\"], combi_df[\"Outlet_Establisted_Years\"],\n",
    "                          hot_encoded.toarray()))\n",
    "combi_X.shape"
   ]
  },
  {
   "cell_type": "code",
   "execution_count": 200,
   "metadata": {},
   "outputs": [
    {
     "data": {
      "text/plain": [
       "(8523, 42)"
      ]
     },
     "execution_count": 200,
     "metadata": {},
     "output_type": "execute_result"
    }
   ],
   "source": [
    "train_X = combi_X[:len(train_df),:]\n",
    "train_X.shape"
   ]
  },
  {
   "cell_type": "code",
   "execution_count": 201,
   "metadata": {},
   "outputs": [
    {
     "data": {
      "text/plain": [
       "(5681, 42)"
      ]
     },
     "execution_count": 201,
     "metadata": {},
     "output_type": "execute_result"
    }
   ],
   "source": [
    "test_X = combi_X[len(train_df):,:]\n",
    "test_X.shape"
   ]
  },
  {
   "cell_type": "code",
   "execution_count": 202,
   "metadata": {},
   "outputs": [
    {
     "data": {
      "text/plain": [
       "5681"
      ]
     },
     "execution_count": 202,
     "metadata": {},
     "output_type": "execute_result"
    }
   ],
   "source": [
    "len(test_df)"
   ]
  },
  {
   "cell_type": "code",
   "execution_count": 203,
   "metadata": {},
   "outputs": [
    {
     "data": {
      "text/plain": [
       "(8523, 1)"
      ]
     },
     "execution_count": 203,
     "metadata": {},
     "output_type": "execute_result"
    }
   ],
   "source": [
    "train_Y = np.array(train_df[\"Item_Outlet_Sales\"]).reshape(train_X.shape[0], 1)\n",
    "train_Y.shape"
   ]
  },
  {
   "cell_type": "markdown",
   "metadata": {},
   "source": [
    "# Create Model"
   ]
  },
  {
   "cell_type": "code",
   "execution_count": 290,
   "metadata": {},
   "outputs": [
    {
     "ename": "ValueError",
     "evalue": "This model has never been called, thus its weights have not yet been created, so no summary can be displayed. Build the model first (e.g. by calling it on some test data).",
     "output_type": "error",
     "traceback": [
      "\u001b[0;31m---------------------------------------------------------------------------\u001b[0m",
      "\u001b[0;31mValueError\u001b[0m                                Traceback (most recent call last)",
      "\u001b[0;32m<ipython-input-290-2cff6472ffc6>\u001b[0m in \u001b[0;36m<module>\u001b[0;34m()\u001b[0m\n\u001b[1;32m     32\u001b[0m \u001b[0mmodel\u001b[0m\u001b[0;34m.\u001b[0m\u001b[0madd\u001b[0m\u001b[0;34m(\u001b[0m\u001b[0mDense\u001b[0m\u001b[0;34m(\u001b[0m\u001b[0;36m1\u001b[0m\u001b[0;34m)\u001b[0m\u001b[0;34m)\u001b[0m\u001b[0;34m\u001b[0m\u001b[0m\n\u001b[1;32m     33\u001b[0m \u001b[0;34m\u001b[0m\u001b[0m\n\u001b[0;32m---> 34\u001b[0;31m \u001b[0mmodel\u001b[0m\u001b[0;34m.\u001b[0m\u001b[0msummary\u001b[0m\u001b[0;34m(\u001b[0m\u001b[0;34m)\u001b[0m\u001b[0;34m\u001b[0m\u001b[0m\n\u001b[0m",
      "\u001b[0;32m~/anaconda3/envs/tf/lib/python3.6/site-packages/keras/engine/network.py\u001b[0m in \u001b[0;36msummary\u001b[0;34m(self, line_length, positions, print_fn)\u001b[0m\n\u001b[1;32m   1245\u001b[0m         \u001b[0;32mif\u001b[0m \u001b[0;32mnot\u001b[0m \u001b[0mself\u001b[0m\u001b[0;34m.\u001b[0m\u001b[0mbuilt\u001b[0m\u001b[0;34m:\u001b[0m\u001b[0;34m\u001b[0m\u001b[0m\n\u001b[1;32m   1246\u001b[0m             raise ValueError(\n\u001b[0;32m-> 1247\u001b[0;31m                 \u001b[0;34m'This model has never been called, thus its weights '\u001b[0m\u001b[0;34m\u001b[0m\u001b[0m\n\u001b[0m\u001b[1;32m   1248\u001b[0m                 \u001b[0;34m'have not yet been created, so no summary can be displayed. '\u001b[0m\u001b[0;34m\u001b[0m\u001b[0m\n\u001b[1;32m   1249\u001b[0m                 \u001b[0;34m'Build the model first '\u001b[0m\u001b[0;34m\u001b[0m\u001b[0m\n",
      "\u001b[0;31mValueError\u001b[0m: This model has never been called, thus its weights have not yet been created, so no summary can be displayed. Build the model first (e.g. by calling it on some test data)."
     ]
    }
   ],
   "source": [
    "from keras.models import Sequential\n",
    "from keras.layers import Dense, Activation, BatchNormalization, Dropout, Input, Concatenate\n",
    "\n",
    "model = Sequential()\n",
    "# model.add(BatchNormalization(input_shape=(42,)))\n",
    "\n",
    "other_input = Input(shape=(42, ))\n",
    "\n",
    "model.add(Concatenate([other_input, item_id_embedding_layer]))\n",
    "\n",
    "model.add(Dense(128, input_dim=42))\n",
    "model.add(Activation('relu'))\n",
    "model.add(BatchNormalization())\n",
    "\n",
    "model.add(Dense(128))\n",
    "model.add(Activation('relu'))\n",
    "model.add(Dropout(0.5))\n",
    "# model.add(BatchNormalization())\n",
    "\n",
    "# model.add(Dense(128))\n",
    "# model.add(Activation('relu'))\n",
    "# model.add(Dropout(0.5))\n",
    "# model.add(BatchNormalization())\n",
    "\n",
    "# model.add(Dense(64))\n",
    "# model.add(Activation('relu'))\n",
    "# model.add(Dropout(0.5))\n",
    "# model.add(BatchNormalization())\n",
    "\n",
    "# model.add(Dense(42, input_dim=42, activation='relu'))\n",
    "\n",
    "model.add(Dense(1))\n",
    "\n",
    "model.summary()"
   ]
  },
  {
   "cell_type": "code",
   "execution_count": 275,
   "metadata": {},
   "outputs": [],
   "source": [
    "model.compile(optimizer='nadam', loss='mse')"
   ]
  },
  {
   "cell_type": "code",
   "execution_count": 276,
   "metadata": {},
   "outputs": [
    {
     "name": "stdout",
     "output_type": "stream",
     "text": [
      "Train on 7670 samples, validate on 853 samples\n",
      "Epoch 1/50\n",
      "7670/7670 [==============================] - 2s 234us/step - loss: 4695521.7098 - val_loss: 3911741.7884\n",
      "Epoch 2/50\n",
      "7670/7670 [==============================] - 1s 119us/step - loss: 1414997.4317 - val_loss: 1927722.5094\n",
      "Epoch 3/50\n",
      "7670/7670 [==============================] - 1s 106us/step - loss: 1391083.8011 - val_loss: 1315655.1112\n",
      "Epoch 4/50\n",
      "7670/7670 [==============================] - 1s 103us/step - loss: 1377540.2200 - val_loss: 1339108.4077\n",
      "Epoch 5/50\n",
      "7670/7670 [==============================] - 1s 106us/step - loss: 1362293.5770 - val_loss: 1903855.0114\n",
      "Epoch 6/50\n",
      "7670/7670 [==============================] - 1s 104us/step - loss: 1344847.4298 - val_loss: 1340308.3224\n",
      "Epoch 7/50\n",
      "7670/7670 [==============================] - 1s 103us/step - loss: 1363434.0965 - val_loss: 1351922.3958\n",
      "Epoch 8/50\n",
      "7670/7670 [==============================] - 1s 103us/step - loss: 1354119.3107 - val_loss: 1267932.1964\n",
      "Epoch 9/50\n",
      "7670/7670 [==============================] - 1s 103us/step - loss: 1377273.4120 - val_loss: 1581879.1593\n",
      "Epoch 10/50\n",
      "7670/7670 [==============================] - 1s 104us/step - loss: 1364579.4293 - val_loss: 1277173.4232\n",
      "Epoch 11/50\n",
      "7670/7670 [==============================] - 1s 102us/step - loss: 1335526.4042 - val_loss: 1230020.9859\n",
      "Epoch 12/50\n",
      "7670/7670 [==============================] - 1s 105us/step - loss: 1347928.8237 - val_loss: 1215586.0177\n",
      "Epoch 13/50\n",
      "7670/7670 [==============================] - 1s 103us/step - loss: 1355605.5904 - val_loss: 1225801.8255\n",
      "Epoch 14/50\n",
      "7670/7670 [==============================] - 1s 107us/step - loss: 1328920.0713 - val_loss: 1298219.4049\n",
      "Epoch 15/50\n",
      "7670/7670 [==============================] - 1s 110us/step - loss: 1323704.7441 - val_loss: 1229309.4176\n",
      "Epoch 16/50\n",
      "7670/7670 [==============================] - 1s 119us/step - loss: 1329960.3291 - val_loss: 1229787.9610\n",
      "Epoch 17/50\n",
      "7670/7670 [==============================] - 1s 126us/step - loss: 1364550.9174 - val_loss: 1236533.0409\n",
      "Epoch 18/50\n",
      "7670/7670 [==============================] - 1s 125us/step - loss: 1332874.9161 - val_loss: 1237609.1105\n",
      "Epoch 19/50\n",
      "7670/7670 [==============================] - 1s 113us/step - loss: 1367301.8429 - val_loss: 1656317.5977\n",
      "Epoch 20/50\n",
      "7670/7670 [==============================] - 1s 104us/step - loss: 1330626.8341 - val_loss: 1233450.5881\n",
      "Epoch 21/50\n",
      "7670/7670 [==============================] - 1s 111us/step - loss: 1319245.3789 - val_loss: 1267096.4209\n",
      "Epoch 22/50\n",
      "7670/7670 [==============================] - 1s 103us/step - loss: 1326132.0797 - val_loss: 1297152.8278\n",
      "Epoch 23/50\n",
      "7670/7670 [==============================] - 1s 104us/step - loss: 1311539.9709 - val_loss: 1369457.0576\n",
      "Epoch 24/50\n",
      "7670/7670 [==============================] - 1s 106us/step - loss: 1324593.2342 - val_loss: 1238072.2005\n",
      "Epoch 25/50\n",
      "7670/7670 [==============================] - 1s 115us/step - loss: 1324110.9181 - val_loss: 1216931.0533\n",
      "Epoch 26/50\n",
      "7670/7670 [==============================] - 1s 106us/step - loss: 1317850.1968 - val_loss: 1324293.8546\n",
      "Epoch 27/50\n",
      "7670/7670 [==============================] - 1s 103us/step - loss: 1313653.4520 - val_loss: 1268130.5717\n",
      "Epoch 28/50\n",
      "7670/7670 [==============================] - 1s 106us/step - loss: 1332577.5711 - val_loss: 1240246.0133\n",
      "Epoch 29/50\n",
      "7670/7670 [==============================] - 1s 113us/step - loss: 1326356.8027 - val_loss: 1216307.0372\n",
      "Epoch 30/50\n",
      "7670/7670 [==============================] - 1s 127us/step - loss: 1322586.0485 - val_loss: 1256073.1546\n",
      "Epoch 31/50\n",
      "7670/7670 [==============================] - 1s 127us/step - loss: 1297830.1439 - val_loss: 1338201.8705\n",
      "Epoch 32/50\n",
      "7670/7670 [==============================] - 1s 125us/step - loss: 1316273.4474 - val_loss: 1202240.9491\n",
      "Epoch 33/50\n",
      "7670/7670 [==============================] - 1s 127us/step - loss: 1317650.3924 - val_loss: 1244667.5368\n",
      "Epoch 34/50\n",
      "7670/7670 [==============================] - 1s 134us/step - loss: 1324722.1128 - val_loss: 1213474.0280\n",
      "Epoch 35/50\n",
      "7670/7670 [==============================] - 1s 106us/step - loss: 1304223.4695 - val_loss: 1204732.2598\n",
      "Epoch 36/50\n",
      "7670/7670 [==============================] - 1s 111us/step - loss: 1303594.0590 - val_loss: 1202304.0221\n",
      "Epoch 37/50\n",
      "7670/7670 [==============================] - 1s 119us/step - loss: 1307694.2746 - val_loss: 1211667.3899\n",
      "Epoch 38/50\n",
      "7670/7670 [==============================] - 1s 140us/step - loss: 1328286.6736 - val_loss: 1216001.1581\n",
      "Epoch 39/50\n",
      "7670/7670 [==============================] - 1s 126us/step - loss: 1327539.3728 - val_loss: 1212242.1514\n",
      "Epoch 40/50\n",
      "7670/7670 [==============================] - 1s 106us/step - loss: 1306427.8037 - val_loss: 1291638.9157\n",
      "Epoch 41/50\n",
      "7670/7670 [==============================] - 1s 132us/step - loss: 1304845.1063 - val_loss: 1201299.4774\n",
      "Epoch 42/50\n",
      "7670/7670 [==============================] - 1s 128us/step - loss: 1297350.7799 - val_loss: 1203847.9405\n",
      "Epoch 43/50\n",
      "7670/7670 [==============================] - 1s 108us/step - loss: 1291924.0422 - val_loss: 1200870.2556\n",
      "Epoch 44/50\n",
      "7670/7670 [==============================] - 1s 117us/step - loss: 1312881.2119 - val_loss: 1265097.0558\n",
      "Epoch 45/50\n",
      "7670/7670 [==============================] - 1s 104us/step - loss: 1299617.8027 - val_loss: 1212287.7501\n",
      "Epoch 46/50\n",
      "7670/7670 [==============================] - 1s 122us/step - loss: 1309204.5511 - val_loss: 1418347.3346\n",
      "Epoch 47/50\n",
      "7670/7670 [==============================] - 1s 123us/step - loss: 1298511.4137 - val_loss: 1249828.4427\n",
      "Epoch 48/50\n",
      "7670/7670 [==============================] - 1s 127us/step - loss: 1327131.3667 - val_loss: 1701551.8206\n",
      "Epoch 49/50\n",
      "7670/7670 [==============================] - 1s 125us/step - loss: 1314187.1031 - val_loss: 1226568.6070\n",
      "Epoch 50/50\n",
      "7670/7670 [==============================] - 1s 106us/step - loss: 1307091.3866 - val_loss: 1226553.3134\n"
     ]
    },
    {
     "data": {
      "text/plain": [
       "<keras.callbacks.History at 0x7f45f55583c8>"
      ]
     },
     "execution_count": 276,
     "metadata": {},
     "output_type": "execute_result"
    }
   ],
   "source": [
    "model.fit(train_X, train_Y, validation_split=0.1, epochs=50)"
   ]
  },
  {
   "cell_type": "code",
   "execution_count": 277,
   "metadata": {},
   "outputs": [
    {
     "name": "stdout",
     "output_type": "stream",
     "text": [
      "Epoch 1/50\n",
      "8523/8523 [==============================] - 1s 101us/step - loss: 1312266.6853\n",
      "Epoch 2/50\n",
      "8523/8523 [==============================] - 1s 102us/step - loss: 1306229.6719\n",
      "Epoch 3/50\n",
      "8523/8523 [==============================] - 1s 104us/step - loss: 1324665.9473\n",
      "Epoch 4/50\n",
      "8523/8523 [==============================] - 1s 98us/step - loss: 1299183.2484\n",
      "Epoch 5/50\n",
      "8523/8523 [==============================] - 1s 98us/step - loss: 1310398.4963\n",
      "Epoch 6/50\n",
      "8523/8523 [==============================] - 1s 101us/step - loss: 1307565.6453\n",
      "Epoch 7/50\n",
      "8523/8523 [==============================] - 1s 102us/step - loss: 1299651.6470\n",
      "Epoch 8/50\n",
      "8523/8523 [==============================] - 1s 101us/step - loss: 1283843.7364\n",
      "Epoch 9/50\n",
      "8523/8523 [==============================] - 1s 98us/step - loss: 1310069.7690\n",
      "Epoch 10/50\n",
      "8523/8523 [==============================] - 1s 100us/step - loss: 1309672.8291\n",
      "Epoch 11/50\n",
      "8523/8523 [==============================] - 1s 101us/step - loss: 1316258.4140\n",
      "Epoch 12/50\n",
      "8523/8523 [==============================] - 1s 99us/step - loss: 1308695.1640\n",
      "Epoch 13/50\n",
      "8523/8523 [==============================] - 1s 107us/step - loss: 1281344.9334\n",
      "Epoch 14/50\n",
      "8523/8523 [==============================] - 1s 101us/step - loss: 1327196.1797\n",
      "Epoch 15/50\n",
      "8523/8523 [==============================] - 1s 101us/step - loss: 1300769.5613\n",
      "Epoch 16/50\n",
      "8523/8523 [==============================] - 1s 107us/step - loss: 1297477.6012\n",
      "Epoch 17/50\n",
      "8523/8523 [==============================] - 1s 120us/step - loss: 1295081.9955\n",
      "Epoch 18/50\n",
      "8523/8523 [==============================] - 1s 122us/step - loss: 1303379.7956\n",
      "Epoch 19/50\n",
      "8523/8523 [==============================] - 1s 109us/step - loss: 1303220.4908\n",
      "Epoch 20/50\n",
      "8523/8523 [==============================] - 1s 115us/step - loss: 1310657.9888\n",
      "Epoch 21/50\n",
      "8523/8523 [==============================] - 1s 103us/step - loss: 1313511.8768\n",
      "Epoch 22/50\n",
      "8523/8523 [==============================] - 1s 120us/step - loss: 1325909.7161\n",
      "Epoch 23/50\n",
      "8523/8523 [==============================] - 1s 120us/step - loss: 1290632.3799\n",
      "Epoch 24/50\n",
      "8523/8523 [==============================] - 1s 107us/step - loss: 1311587.3027\n",
      "Epoch 25/50\n",
      "8523/8523 [==============================] - 1s 105us/step - loss: 1308280.9030\n",
      "Epoch 26/50\n",
      "8523/8523 [==============================] - 1s 101us/step - loss: 1316473.0162\n",
      "Epoch 27/50\n",
      "8523/8523 [==============================] - 1s 117us/step - loss: 1308229.1369\n",
      "Epoch 28/50\n",
      "8523/8523 [==============================] - 1s 121us/step - loss: 1326472.6466\n",
      "Epoch 29/50\n",
      "8523/8523 [==============================] - 1s 130us/step - loss: 1315919.5956\n",
      "Epoch 30/50\n",
      "8523/8523 [==============================] - 1s 107us/step - loss: 1302754.8884\n",
      "Epoch 31/50\n",
      "8523/8523 [==============================] - 1s 104us/step - loss: 1305884.7806\n",
      "Epoch 32/50\n",
      "8523/8523 [==============================] - 1s 115us/step - loss: 1302109.8414\n",
      "Epoch 33/50\n",
      "8523/8523 [==============================] - 1s 126us/step - loss: 1296262.2251\n",
      "Epoch 34/50\n",
      "8523/8523 [==============================] - 1s 124us/step - loss: 1341962.4208\n",
      "Epoch 35/50\n",
      "8523/8523 [==============================] - 1s 116us/step - loss: 1302294.8755\n",
      "Epoch 36/50\n",
      "8523/8523 [==============================] - 1s 125us/step - loss: 1308369.0513\n",
      "Epoch 37/50\n",
      "8523/8523 [==============================] - 1s 126us/step - loss: 1274535.5947\n",
      "Epoch 38/50\n",
      "8523/8523 [==============================] - 1s 109us/step - loss: 1290413.9271\n",
      "Epoch 39/50\n",
      "8523/8523 [==============================] - 1s 124us/step - loss: 1337537.2735\n",
      "Epoch 40/50\n",
      "8523/8523 [==============================] - 1s 124us/step - loss: 1310736.5565\n",
      "Epoch 41/50\n",
      "8523/8523 [==============================] - 1s 110us/step - loss: 1315751.2921\n",
      "Epoch 42/50\n",
      "8523/8523 [==============================] - 1s 118us/step - loss: 1308462.8874\n",
      "Epoch 43/50\n",
      "8523/8523 [==============================] - 1s 123us/step - loss: 1304867.9284\n",
      "Epoch 44/50\n",
      "8523/8523 [==============================] - 1s 109us/step - loss: 1301900.7838\n",
      "Epoch 45/50\n",
      "8523/8523 [==============================] - 1s 113us/step - loss: 1281704.6386\n",
      "Epoch 46/50\n",
      "8523/8523 [==============================] - 1s 123us/step - loss: 1303528.3234\n",
      "Epoch 47/50\n",
      "8523/8523 [==============================] - 1s 128us/step - loss: 1306209.6088\n",
      "Epoch 48/50\n",
      "8523/8523 [==============================] - 1s 133us/step - loss: 1309007.6069\n",
      "Epoch 49/50\n",
      "8523/8523 [==============================] - 1s 130us/step - loss: 1309094.8980\n",
      "Epoch 50/50\n",
      "8523/8523 [==============================] - 1s 119us/step - loss: 1329935.7750\n"
     ]
    },
    {
     "data": {
      "text/plain": [
       "<keras.callbacks.History at 0x7f45f55584a8>"
      ]
     },
     "execution_count": 277,
     "metadata": {},
     "output_type": "execute_result"
    }
   ],
   "source": [
    "model.fit(train_X, train_Y, validation_split=0, epochs=50)"
   ]
  },
  {
   "cell_type": "code",
   "execution_count": 268,
   "metadata": {},
   "outputs": [
    {
     "name": "stdout",
     "output_type": "stream",
     "text": [
      "8523/8523 [==============================] - 0s 25us/step\n"
     ]
    },
    {
     "data": {
      "text/plain": [
       "1143607.4883880382"
      ]
     },
     "execution_count": 268,
     "metadata": {},
     "output_type": "execute_result"
    }
   ],
   "source": [
    "model.evaluate(train_X, train_Y)"
   ]
  },
  {
   "cell_type": "code",
   "execution_count": 269,
   "metadata": {},
   "outputs": [
    {
     "data": {
      "text/plain": [
       "array([[-0.12640417, -0.02542421, -0.0368169 , ...,  0.09164684,\n",
       "        -0.24264479, -0.18613203],\n",
       "       [-1.4700042 , -0.06581265,  0.07626545, ..., -0.9983824 ,\n",
       "        -1.6026614 ,  0.14570403],\n",
       "       [-0.01285062, -0.18067124, -0.07765228, ...,  0.24970275,\n",
       "        -0.00334364, -0.18349788],\n",
       "       ...,\n",
       "       [ 0.04733146,  0.11824605,  0.15286443, ...,  0.21742995,\n",
       "        -0.37457192,  0.10678506],\n",
       "       [ 1.3654072 ,  0.00352971,  0.01851389, ...,  1.6180304 ,\n",
       "         1.1358696 ,  0.14974916],\n",
       "       [ 0.14784071,  0.01885547,  0.1673291 , ...,  0.03642788,\n",
       "         0.08399075,  0.12856936]], dtype=float32)"
      ]
     },
     "execution_count": 269,
     "metadata": {},
     "output_type": "execute_result"
    }
   ],
   "source": [
    "model.get_weights()[0]"
   ]
  },
  {
   "cell_type": "code",
   "execution_count": 270,
   "metadata": {},
   "outputs": [],
   "source": [
    "test_Y = model.predict(test_X)"
   ]
  },
  {
   "cell_type": "code",
   "execution_count": 271,
   "metadata": {},
   "outputs": [
    {
     "data": {
      "text/plain": [
       "(5681, 1)"
      ]
     },
     "execution_count": 271,
     "metadata": {},
     "output_type": "execute_result"
    }
   ],
   "source": [
    "test_df[\"Item_Outlet_Sales\"] = test_Y\n",
    "test_Y.shape"
   ]
  },
  {
   "cell_type": "code",
   "execution_count": 272,
   "metadata": {},
   "outputs": [
    {
     "data": {
      "text/plain": [
       "array([[1761.5474 ],\n",
       "       [1429.8042 ],\n",
       "       [ 619.59625],\n",
       "       [2569.0645 ],\n",
       "       [5744.763  ],\n",
       "       [1874.4058 ],\n",
       "       [ 626.82306],\n",
       "       [2044.6731 ],\n",
       "       [1459.6941 ],\n",
       "       [3082.71   ]], dtype=float32)"
      ]
     },
     "execution_count": 272,
     "metadata": {},
     "output_type": "execute_result"
    }
   ],
   "source": [
    "test_Y[:10]"
   ]
  },
  {
   "cell_type": "code",
   "execution_count": 273,
   "metadata": {},
   "outputs": [],
   "source": [
    "submission = test_df[['Item_Identifier','Outlet_Identifier','Item_Outlet_Sales']]\n",
    "submission.to_csv('submission.csv', index=False) # writing data to a CSV file"
   ]
  },
  {
   "cell_type": "code",
   "execution_count": null,
   "metadata": {},
   "outputs": [],
   "source": []
  }
 ],
 "metadata": {
  "kernelspec": {
   "display_name": "Python 3",
   "language": "python",
   "name": "python3"
  },
  "language_info": {
   "codemirror_mode": {
    "name": "ipython",
    "version": 3
   },
   "file_extension": ".py",
   "mimetype": "text/x-python",
   "name": "python",
   "nbconvert_exporter": "python",
   "pygments_lexer": "ipython3",
   "version": "3.6.5"
  }
 },
 "nbformat": 4,
 "nbformat_minor": 2
}
