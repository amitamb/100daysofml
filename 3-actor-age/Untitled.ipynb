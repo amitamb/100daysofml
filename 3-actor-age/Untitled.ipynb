{
 "cells": [
  {
   "cell_type": "code",
   "execution_count": 115,
   "metadata": {},
   "outputs": [],
   "source": [
    "import tensorflow as tf\n",
    "import keras as keras\n",
    "from keras.layers import *\n",
    "from keras.models import *\n",
    "from keras.optimizers import *\n",
    "\n",
    "import pandas as pd\n",
    "import cv2\n",
    "\n",
    "from matplotlib import pyplot as plt\n",
    "\n",
    "import sklearn"
   ]
  },
  {
   "cell_type": "code",
   "execution_count": 131,
   "metadata": {},
   "outputs": [],
   "source": [
    "train_df = pd.read_csv(\"../../data/actor_age/train/train.csv\")"
   ]
  },
  {
   "cell_type": "code",
   "execution_count": 132,
   "metadata": {},
   "outputs": [
    {
     "data": {
      "text/plain": [
       "ID       object\n",
       "Class    object\n",
       "dtype: object"
      ]
     },
     "execution_count": 132,
     "metadata": {},
     "output_type": "execute_result"
    }
   ],
   "source": [
    "train_df.dtypes"
   ]
  },
  {
   "cell_type": "code",
   "execution_count": 133,
   "metadata": {},
   "outputs": [
    {
     "data": {
      "text/html": [
       "<div>\n",
       "<style scoped>\n",
       "    .dataframe tbody tr th:only-of-type {\n",
       "        vertical-align: middle;\n",
       "    }\n",
       "\n",
       "    .dataframe tbody tr th {\n",
       "        vertical-align: top;\n",
       "    }\n",
       "\n",
       "    .dataframe thead th {\n",
       "        text-align: right;\n",
       "    }\n",
       "</style>\n",
       "<table border=\"1\" class=\"dataframe\">\n",
       "  <thead>\n",
       "    <tr style=\"text-align: right;\">\n",
       "      <th></th>\n",
       "      <th>ID</th>\n",
       "      <th>Class</th>\n",
       "    </tr>\n",
       "  </thead>\n",
       "  <tbody>\n",
       "    <tr>\n",
       "      <th>0</th>\n",
       "      <td>377.jpg</td>\n",
       "      <td>MIDDLE</td>\n",
       "    </tr>\n",
       "    <tr>\n",
       "      <th>1</th>\n",
       "      <td>17814.jpg</td>\n",
       "      <td>YOUNG</td>\n",
       "    </tr>\n",
       "    <tr>\n",
       "      <th>2</th>\n",
       "      <td>21283.jpg</td>\n",
       "      <td>MIDDLE</td>\n",
       "    </tr>\n",
       "    <tr>\n",
       "      <th>3</th>\n",
       "      <td>16496.jpg</td>\n",
       "      <td>YOUNG</td>\n",
       "    </tr>\n",
       "    <tr>\n",
       "      <th>4</th>\n",
       "      <td>4487.jpg</td>\n",
       "      <td>MIDDLE</td>\n",
       "    </tr>\n",
       "  </tbody>\n",
       "</table>\n",
       "</div>"
      ],
      "text/plain": [
       "          ID   Class\n",
       "0    377.jpg  MIDDLE\n",
       "1  17814.jpg   YOUNG\n",
       "2  21283.jpg  MIDDLE\n",
       "3  16496.jpg   YOUNG\n",
       "4   4487.jpg  MIDDLE"
      ]
     },
     "execution_count": 133,
     "metadata": {},
     "output_type": "execute_result"
    }
   ],
   "source": [
    "# train_df = train_df.iloc[:10000]\n",
    "train_df.head()"
   ]
  },
  {
   "cell_type": "code",
   "execution_count": 134,
   "metadata": {},
   "outputs": [
    {
     "name": "stdout",
     "output_type": "stream",
     "text": [
      "377.jpg\n"
     ]
    },
    {
     "data": {
      "text/plain": [
       "(32, 32, 3)"
      ]
     },
     "execution_count": 134,
     "metadata": {},
     "output_type": "execute_result"
    }
   ],
   "source": [
    "img_width = 32\n",
    "img_height = 32\n",
    "def get_img(img_id):\n",
    "    # Load as grayscale\n",
    "    img = cv2.imread('../../data/actor_age/train/Train/' + img_id, cv2.IMREAD_COLOR)\n",
    "    # Reduce size\n",
    "    resized = cv2.resize(img, (img_width, img_height))\n",
    "    return resized\n",
    "\n",
    "print(train_df['ID'][0])\n",
    "img = get_img(train_df['ID'][0])\n",
    "img.shape"
   ]
  },
  {
   "cell_type": "code",
   "execution_count": 135,
   "metadata": {},
   "outputs": [
    {
     "data": {
      "text/plain": [
       "<matplotlib.image.AxesImage at 0x7f412e0dd908>"
      ]
     },
     "execution_count": 135,
     "metadata": {},
     "output_type": "execute_result"
    },
    {
     "data": {
      "image/png": "[encoded data removed]",
      "text/plain": [
       "<Figure size 432x288 with 1 Axes>"
      ]
     },
     "metadata": {},
     "output_type": "display_data"
    }
   ],
   "source": [
    "%matplotlib inline\n",
    "img = cv2.cvtColor(img, cv2.COLOR_BGR2RGB)\n",
    "# cv2.imshow('image',img_arr)\n",
    "plt.imshow(img)"
   ]
  },
  {
   "cell_type": "code",
   "execution_count": 136,
   "metadata": {},
   "outputs": [
    {
     "name": "stdout",
     "output_type": "stream",
     "text": [
      "(19906, 32, 32, 3)\n"
     ]
    }
   ],
   "source": [
    "def generate_input(df):\n",
    "    X = []\n",
    "    df['ID'].apply(lambda a: X.append(get_img(a)))\n",
    "    return X\n",
    "\n",
    "train_X = np.array(generate_input(train_df))\n",
    "print(train_X.shape)\n",
    "# train_X.size"
   ]
  },
  {
   "cell_type": "code",
   "execution_count": 137,
   "metadata": {},
   "outputs": [
    {
     "data": {
      "text/plain": [
       "(19906, 3)"
      ]
     },
     "execution_count": 137,
     "metadata": {},
     "output_type": "execute_result"
    }
   ],
   "source": [
    "from sklearn.preprocessing import OneHotEncoder\n",
    "dict = { 'YOUNG' : 0, 'MIDDLE': 1, 'OLD': 3 }\n",
    "train_Y = []\n",
    "train_df['Class'].apply(lambda a: train_Y.append(dict[a]))\n",
    "train_Y = np.array(train_Y)\n",
    "# print(train_Y)\n",
    "# print(tf.one_hot(train_Y, 3))\n",
    "np.array(tf.one_hot(train_Y, 3))\n",
    "# print(pd.get_dummies(train_df['Class']))\n",
    "one_hot_Encoder = OneHotEncoder(sparse=False)\n",
    "train_Y = np.array(one_hot_Encoder.fit_transform(train_Y.reshape((-1, 1))))\n",
    "# print(train_Y)\n",
    "train_Y.shape"
   ]
  },
  {
   "cell_type": "code",
   "execution_count": 181,
   "metadata": {},
   "outputs": [],
   "source": [
    "nb_filters1 = 32\n",
    "conv1_size = 3\n",
    "pool_size = 2\n",
    "\n",
    "model = Sequential()\n",
    "model.add(Conv2D(nb_filters1, (conv1_size, conv1_size), padding=\"same\", input_shape=(img_width, img_height, 3)))\n",
    "model.add(Activation('relu'))\n",
    "model.add(MaxPooling2D(pool_size=(pool_size)))"
   ]
  },
  {
   "cell_type": "code",
   "execution_count": 182,
   "metadata": {},
   "outputs": [],
   "source": [
    "nb_filter2 = 64\n",
    "conv2_size = 3\n",
    "\n",
    "model.add(BatchNormalization(input_shape=(3,32,32)))\n",
    "\n",
    "model.add(Conv2D(nb_filter2, (conv2_size, conv2_size), padding='same'))\n",
    "model.add(Activation('relu'))\n",
    "model.add(MaxPooling2D(pool_size=(pool_size, pool_size)))\n",
    "\n",
    "nb_filter3 = 32\n",
    "conv3_size = 3\n",
    "\n",
    "model.add(Conv2D(nb_filter3, (conv3_size, conv3_size), padding='same'))\n",
    "model.add(Activation('relu'))\n",
    "model.add(MaxPooling2D(pool_size=(pool_size, pool_size)))\n",
    "\n",
    "model.add(Conv2D(nb_filter3, (conv3_size, conv3_size), padding='same'))\n",
    "model.add(Activation('relu'))\n",
    "model.add(MaxPooling2D(pool_size=(pool_size, pool_size)))"
   ]
  },
  {
   "cell_type": "code",
   "execution_count": 183,
   "metadata": {},
   "outputs": [],
   "source": [
    "num_classes = 3\n",
    "\n",
    "model.add(Flatten())\n",
    "model.add(Dense(512))\n",
    "model.add(Activation('relu'))\n",
    "model.add(Dropout(0.5))\n",
    "model.add(Dense(num_classes, activation='softmax'))"
   ]
  },
  {
   "cell_type": "code",
   "execution_count": 184,
   "metadata": {},
   "outputs": [
    {
     "name": "stdout",
     "output_type": "stream",
     "text": [
      "_________________________________________________________________\n",
      "Layer (type)                 Output Shape              Param #   \n",
      "=================================================================\n",
      "conv2d_37 (Conv2D)           (None, 32, 32, 32)        896       \n",
      "_________________________________________________________________\n",
      "activation_49 (Activation)   (None, 32, 32, 32)        0         \n",
      "_________________________________________________________________\n",
      "max_pooling2d_37 (MaxPooling (None, 16, 16, 32)        0         \n",
      "_________________________________________________________________\n",
      "batch_normalization_4 (Batch (None, 16, 16, 32)        128       \n",
      "_________________________________________________________________\n",
      "conv2d_38 (Conv2D)           (None, 16, 16, 64)        18496     \n",
      "_________________________________________________________________\n",
      "activation_50 (Activation)   (None, 16, 16, 64)        0         \n",
      "_________________________________________________________________\n",
      "max_pooling2d_38 (MaxPooling (None, 8, 8, 64)          0         \n",
      "_________________________________________________________________\n",
      "conv2d_39 (Conv2D)           (None, 8, 8, 32)          18464     \n",
      "_________________________________________________________________\n",
      "activation_51 (Activation)   (None, 8, 8, 32)          0         \n",
      "_________________________________________________________________\n",
      "max_pooling2d_39 (MaxPooling (None, 4, 4, 32)          0         \n",
      "_________________________________________________________________\n",
      "conv2d_40 (Conv2D)           (None, 4, 4, 32)          9248      \n",
      "_________________________________________________________________\n",
      "activation_52 (Activation)   (None, 4, 4, 32)          0         \n",
      "_________________________________________________________________\n",
      "max_pooling2d_40 (MaxPooling (None, 2, 2, 32)          0         \n",
      "_________________________________________________________________\n",
      "flatten_14 (Flatten)         (None, 128)               0         \n",
      "_________________________________________________________________\n",
      "dense_25 (Dense)             (None, 512)               66048     \n",
      "_________________________________________________________________\n",
      "activation_53 (Activation)   (None, 512)               0         \n",
      "_________________________________________________________________\n",
      "dropout_13 (Dropout)         (None, 512)               0         \n",
      "_________________________________________________________________\n",
      "dense_26 (Dense)             (None, 3)                 1539      \n",
      "=================================================================\n",
      "Total params: 114,819\n",
      "Trainable params: 114,755\n",
      "Non-trainable params: 64\n",
      "_________________________________________________________________\n"
     ]
    }
   ],
   "source": [
    "model.summary()"
   ]
  },
  {
   "cell_type": "code",
   "execution_count": 185,
   "metadata": {},
   "outputs": [
    {
     "data": {
      "text/plain": [
       "(19906, 3)"
      ]
     },
     "execution_count": 185,
     "metadata": {},
     "output_type": "execute_result"
    }
   ],
   "source": [
    "opt = SGD(lr=0.01)\n",
    "model.compile(optimizer=opt,\n",
    "              loss='categorical_crossentropy', metrics=['accuracy'])\n",
    "train_Y.shape"
   ]
  },
  {
   "cell_type": "code",
   "execution_count": 186,
   "metadata": {},
   "outputs": [
    {
     "name": "stdout",
     "output_type": "stream",
     "text": [
      "Epoch 1/20\n",
      "19906/19906 [==============================] - 103s 5ms/step - loss: 0.8618 - acc: 0.6088\n",
      "Epoch 2/20\n",
      "19906/19906 [==============================] - 115s 6ms/step - loss: 0.7469 - acc: 0.6724\n",
      "Epoch 3/20\n",
      "19906/19906 [==============================] - 122s 6ms/step - loss: 0.6978 - acc: 0.7008\n",
      "Epoch 4/20\n",
      "19906/19906 [==============================] - 103s 5ms/step - loss: 0.6642 - acc: 0.7178\n",
      "Epoch 5/20\n",
      "19906/19906 [==============================] - 96s 5ms/step - loss: 0.6359 - acc: 0.7336\n",
      "Epoch 6/20\n",
      "19906/19906 [==============================] - 95s 5ms/step - loss: 0.6092 - acc: 0.7451\n",
      "Epoch 7/20\n",
      "19906/19906 [==============================] - 128s 6ms/step - loss: 0.5909 - acc: 0.7507\n",
      "Epoch 8/20\n",
      "19906/19906 [==============================] - 106s 5ms/step - loss: 0.5667 - acc: 0.7667\n",
      "Epoch 9/20\n",
      "19906/19906 [==============================] - 98s 5ms/step - loss: 0.5462 - acc: 0.7717\n",
      "Epoch 10/20\n",
      "19906/19906 [==============================] - 87s 4ms/step - loss: 0.5214 - acc: 0.7863\n",
      "Epoch 11/20\n",
      "19906/19906 [==============================] - 81s 4ms/step - loss: 0.5247 - acc: 0.7833\n",
      "Epoch 12/20\n",
      "19906/19906 [==============================] - 79s 4ms/step - loss: 0.4891 - acc: 0.7991\n",
      "Epoch 13/20\n",
      "19906/19906 [==============================] - 84s 4ms/step - loss: 0.4708 - acc: 0.8091\n",
      "Epoch 14/20\n",
      "19906/19906 [==============================] - 91s 5ms/step - loss: 0.4551 - acc: 0.8156\n",
      "Epoch 15/20\n",
      "19906/19906 [==============================] - 99s 5ms/step - loss: 0.4434 - acc: 0.8219\n",
      "Epoch 16/20\n",
      "19906/19906 [==============================] - 95s 5ms/step - loss: 0.4249 - acc: 0.8302\n",
      "Epoch 17/20\n",
      "19906/19906 [==============================] - 91s 5ms/step - loss: 0.4154 - acc: 0.8325\n",
      "Epoch 18/20\n",
      "19906/19906 [==============================] - 96s 5ms/step - loss: 0.3875 - acc: 0.8443\n",
      "Epoch 19/20\n",
      "19906/19906 [==============================] - 94s 5ms/step - loss: 0.3783 - acc: 0.8482\n",
      "Epoch 20/20\n",
      "19906/19906 [==============================] - 83s 4ms/step - loss: 0.3662 - acc: 0.8525\n"
     ]
    },
    {
     "data": {
      "text/plain": [
       "<keras.callbacks.History at 0x7f416729fa90>"
      ]
     },
     "execution_count": 186,
     "metadata": {},
     "output_type": "execute_result"
    }
   ],
   "source": [
    "model.fit(x=train_X, y=train_Y, epochs=20)"
   ]
  },
  {
   "cell_type": "code",
   "execution_count": 187,
   "metadata": {},
   "outputs": [
    {
     "data": {
      "text/plain": [
       "<matplotlib.image.AxesImage at 0x7f4166adeeb8>"
      ]
     },
     "execution_count": 187,
     "metadata": {},
     "output_type": "execute_result"
    },
    {
     "data": {
      "image/png": "[encoded data removed]",
      "text/plain": [
       "<Figure size 432x288 with 1 Axes>"
      ]
     },
     "metadata": {},
     "output_type": "display_data"
    }
   ],
   "source": [
    "img = cv2.cvtColor(train_X[7000], cv2.COLOR_BGR2RGB)\n",
    "plt.imshow(img)"
   ]
  },
  {
   "cell_type": "code",
   "execution_count": 191,
   "metadata": {},
   "outputs": [
    {
     "data": {
      "text/plain": [
       "array([1])"
      ]
     },
     "execution_count": 191,
     "metadata": {},
     "output_type": "execute_result"
    }
   ],
   "source": [
    "prediction = model.predict(train_X[7000:7001])\n",
    "prediction = prediction.argmax(axis=1)\n",
    "prediction"
   ]
  },
  {
   "cell_type": "code",
   "execution_count": 192,
   "metadata": {},
   "outputs": [
    {
     "data": {
      "text/plain": [
       "array([1])"
      ]
     },
     "execution_count": 192,
     "metadata": {},
     "output_type": "execute_result"
    }
   ],
   "source": [
    "train_Y[7000:7001].argmax(axis=1)"
   ]
  },
  {
   "cell_type": "code",
   "execution_count": null,
   "metadata": {},
   "outputs": [
    {
     "name": "stdout",
     "output_type": "stream",
     "text": [
      " 3296/19000 [====>.........................] - ETA: 20s"
     ]
    }
   ],
   "source": [
    "model.evaluate(train_X[:19000], train_Y[:19000])"
   ]
  },
  {
   "cell_type": "code",
   "execution_count": null,
   "metadata": {},
   "outputs": [],
   "source": []
  }
 ],
 "metadata": {
  "kernelspec": {
   "display_name": "Python 3",
   "language": "python",
   "name": "python3"
  },
  "language_info": {
   "codemirror_mode": {
    "name": "ipython",
    "version": 3
   },
   "file_extension": ".py",
   "mimetype": "text/x-python",
   "name": "python",
   "nbconvert_exporter": "python",
   "pygments_lexer": "ipython3",
   "version": "3.6.5"
  }
 },
 "nbformat": 4,
 "nbformat_minor": 2
}
