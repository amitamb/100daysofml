{
 "cells": [
  {
   "cell_type": "code",
   "execution_count": 107,
   "metadata": {},
   "outputs": [],
   "source": [
    "import tensorflow as tf\n",
    "import keras as keras\n",
    "from keras.layers import *\n",
    "from keras.models import *\n",
    "from keras.optimizers import *\n",
    "\n",
    "import pandas as pd\n",
    "import cv2\n",
    "\n",
    "from matplotlib import pyplot as plt\n",
    "\n",
    "import sklearn"
   ]
  },
  {
   "cell_type": "code",
   "execution_count": 108,
   "metadata": {},
   "outputs": [],
   "source": [
    "train_df = pd.read_csv(\"../../data/actor_age/train/train.csv\")\n",
    "test_df = pd.read_csv(\"../../data/actor_age/test/test.csv\")"
   ]
  },
  {
   "cell_type": "code",
   "execution_count": 109,
   "metadata": {},
   "outputs": [
    {
     "data": {
      "text/plain": [
       "ID       object\n",
       "Class    object\n",
       "dtype: object"
      ]
     },
     "execution_count": 109,
     "metadata": {},
     "output_type": "execute_result"
    }
   ],
   "source": [
    "train_df.dtypes"
   ]
  },
  {
   "cell_type": "code",
   "execution_count": 110,
   "metadata": {},
   "outputs": [
    {
     "data": {
      "text/html": [
       "<div>\n",
       "<style scoped>\n",
       "    .dataframe tbody tr th:only-of-type {\n",
       "        vertical-align: middle;\n",
       "    }\n",
       "\n",
       "    .dataframe tbody tr th {\n",
       "        vertical-align: top;\n",
       "    }\n",
       "\n",
       "    .dataframe thead th {\n",
       "        text-align: right;\n",
       "    }\n",
       "</style>\n",
       "<table border=\"1\" class=\"dataframe\">\n",
       "  <thead>\n",
       "    <tr style=\"text-align: right;\">\n",
       "      <th></th>\n",
       "      <th>ID</th>\n",
       "      <th>Class</th>\n",
       "    </tr>\n",
       "  </thead>\n",
       "  <tbody>\n",
       "    <tr>\n",
       "      <th>0</th>\n",
       "      <td>377.jpg</td>\n",
       "      <td>MIDDLE</td>\n",
       "    </tr>\n",
       "    <tr>\n",
       "      <th>1</th>\n",
       "      <td>17814.jpg</td>\n",
       "      <td>YOUNG</td>\n",
       "    </tr>\n",
       "    <tr>\n",
       "      <th>2</th>\n",
       "      <td>21283.jpg</td>\n",
       "      <td>MIDDLE</td>\n",
       "    </tr>\n",
       "    <tr>\n",
       "      <th>3</th>\n",
       "      <td>16496.jpg</td>\n",
       "      <td>YOUNG</td>\n",
       "    </tr>\n",
       "    <tr>\n",
       "      <th>4</th>\n",
       "      <td>4487.jpg</td>\n",
       "      <td>MIDDLE</td>\n",
       "    </tr>\n",
       "  </tbody>\n",
       "</table>\n",
       "</div>"
      ],
      "text/plain": [
       "          ID   Class\n",
       "0    377.jpg  MIDDLE\n",
       "1  17814.jpg   YOUNG\n",
       "2  21283.jpg  MIDDLE\n",
       "3  16496.jpg   YOUNG\n",
       "4   4487.jpg  MIDDLE"
      ]
     },
     "execution_count": 110,
     "metadata": {},
     "output_type": "execute_result"
    }
   ],
   "source": [
    "# train_df = train_df.iloc[:10000]\n",
    "train_df.head()"
   ]
  },
  {
   "cell_type": "code",
   "execution_count": 111,
   "metadata": {},
   "outputs": [
    {
     "data": {
      "text/html": [
       "<div>\n",
       "<style scoped>\n",
       "    .dataframe tbody tr th:only-of-type {\n",
       "        vertical-align: middle;\n",
       "    }\n",
       "\n",
       "    .dataframe tbody tr th {\n",
       "        vertical-align: top;\n",
       "    }\n",
       "\n",
       "    .dataframe thead th {\n",
       "        text-align: right;\n",
       "    }\n",
       "</style>\n",
       "<table border=\"1\" class=\"dataframe\">\n",
       "  <thead>\n",
       "    <tr style=\"text-align: right;\">\n",
       "      <th></th>\n",
       "      <th>ID</th>\n",
       "    </tr>\n",
       "  </thead>\n",
       "  <tbody>\n",
       "    <tr>\n",
       "      <th>0</th>\n",
       "      <td>25321.jpg</td>\n",
       "    </tr>\n",
       "    <tr>\n",
       "      <th>1</th>\n",
       "      <td>989.jpg</td>\n",
       "    </tr>\n",
       "    <tr>\n",
       "      <th>2</th>\n",
       "      <td>19277.jpg</td>\n",
       "    </tr>\n",
       "    <tr>\n",
       "      <th>3</th>\n",
       "      <td>13093.jpg</td>\n",
       "    </tr>\n",
       "    <tr>\n",
       "      <th>4</th>\n",
       "      <td>5367.jpg</td>\n",
       "    </tr>\n",
       "  </tbody>\n",
       "</table>\n",
       "</div>"
      ],
      "text/plain": [
       "          ID\n",
       "0  25321.jpg\n",
       "1    989.jpg\n",
       "2  19277.jpg\n",
       "3  13093.jpg\n",
       "4   5367.jpg"
      ]
     },
     "execution_count": 111,
     "metadata": {},
     "output_type": "execute_result"
    }
   ],
   "source": [
    "test_df.head()"
   ]
  },
  {
   "cell_type": "code",
   "execution_count": 112,
   "metadata": {},
   "outputs": [
    {
     "name": "stdout",
     "output_type": "stream",
     "text": [
      "377.jpg\n"
     ]
    },
    {
     "data": {
      "text/plain": [
       "(32, 32, 3)"
      ]
     },
     "execution_count": 112,
     "metadata": {},
     "output_type": "execute_result"
    }
   ],
   "source": [
    "img_width = 32\n",
    "img_height = 32\n",
    "def get_img(img_id, phase=\"train\"):\n",
    "    # Load as grayscale\n",
    "    img_path = '../../data/actor_age/'+ phase +'/images/' + img_id\n",
    "#     print(img_path)\n",
    "    img = cv2.imread(img_path, cv2.IMREAD_COLOR)\n",
    "    # Reduce size\n",
    "    resized = cv2.resize(img, (img_width, img_height))\n",
    "    return resized\n",
    "\n",
    "print(train_df['ID'][0])\n",
    "img = get_img(train_df['ID'][0])\n",
    "img.shape"
   ]
  },
  {
   "cell_type": "code",
   "execution_count": 113,
   "metadata": {},
   "outputs": [
    {
     "data": {
      "text/plain": [
       "<matplotlib.image.AxesImage at 0x7fc878aa3b00>"
      ]
     },
     "execution_count": 113,
     "metadata": {},
     "output_type": "execute_result"
    },
    {
     "data": {
      "image/png": "[encoded data removed]",
      "text/plain": [
       "<Figure size 432x288 with 1 Axes>"
      ]
     },
     "metadata": {},
     "output_type": "display_data"
    }
   ],
   "source": [
    "%matplotlib inline\n",
    "img = cv2.cvtColor(img, cv2.COLOR_BGR2RGB)\n",
    "# cv2.imshow('image',img_arr)\n",
    "plt.imshow(img)"
   ]
  },
  {
   "cell_type": "code",
   "execution_count": 114,
   "metadata": {},
   "outputs": [
    {
     "data": {
      "text/plain": [
       "<matplotlib.image.AxesImage at 0x7fc878a76ef0>"
      ]
     },
     "execution_count": 114,
     "metadata": {},
     "output_type": "execute_result"
    },
    {
     "data": {
      "image/png": "[encoded data removed]",
      "text/plain": [
       "<Figure size 432x288 with 1 Axes>"
      ]
     },
     "metadata": {},
     "output_type": "display_data"
    }
   ],
   "source": [
    "img = get_img(test_df['ID'][0], phase=\"test\")\n",
    "img = cv2.cvtColor(img, cv2.COLOR_BGR2RGB)\n",
    "# cv2.imshow('image',img_arr)\n",
    "plt.imshow(img)"
   ]
  },
  {
   "cell_type": "code",
   "execution_count": 115,
   "metadata": {},
   "outputs": [
    {
     "name": "stdout",
     "output_type": "stream",
     "text": [
      "(19906, 32, 32, 3)\n",
      "(6636, 32, 32, 3)\n"
     ]
    }
   ],
   "source": [
    "def generate_input(df, phase):\n",
    "    X = []\n",
    "    df['ID'].apply(lambda a: X.append(get_img(a, phase)))\n",
    "    return X\n",
    "\n",
    "train_X = np.array(generate_input(train_df, \"train\"))\n",
    "test_X = np.array(generate_input(test_df, \"test\"))\n",
    "print(train_X.shape)\n",
    "print(test_X.shape)\n",
    "# train_X.size"
   ]
  },
  {
   "cell_type": "code",
   "execution_count": 116,
   "metadata": {},
   "outputs": [],
   "source": [
    "from sklearn.preprocessing import OneHotEncoder\n",
    "\n",
    "def generate_output(df):\n",
    "    dict = { 'YOUNG' : 0, 'MIDDLE': 1, 'OLD': 2 }\n",
    "    out_Y = []\n",
    "    df['Class'].apply(lambda a: out_Y.append(dict[a]))\n",
    "    out_Y = np.array(out_Y)\n",
    "    # print(train_Y)\n",
    "    # print(tf.one_hot(train_Y, 3))\n",
    "    np.array(tf.one_hot(out_Y, 3))\n",
    "    # print(pd.get_dummies(train_df['Class']))\n",
    "    one_hot_Encoder = OneHotEncoder(sparse=False)\n",
    "    out_Y = np.array(one_hot_Encoder.fit_transform(out_Y.reshape((-1, 1))))\n",
    "    # print(train_Y)\n",
    "    out_Y.shape\n",
    "    return out_Y\n",
    "train_Y = generate_output(train_df)\n",
    "# test_Y = generate_output(test_df)"
   ]
  },
  {
   "cell_type": "code",
   "execution_count": 151,
   "metadata": {},
   "outputs": [],
   "source": [
    "nb_filters1 = 64\n",
    "conv1_size = 3\n",
    "pool_size = 2\n",
    "\n",
    "model = Sequential()\n",
    "model.add(Conv2D(nb_filters1, (conv1_size, conv1_size), padding=\"same\", input_shape=(img_width, img_height, 3)))\n",
    "model.add(Activation('relu'))\n",
    "model.add(MaxPooling2D(pool_size=(pool_size)))"
   ]
  },
  {
   "cell_type": "code",
   "execution_count": 152,
   "metadata": {},
   "outputs": [],
   "source": [
    "nb_filter2 = 64\n",
    "conv2_size = 3\n",
    "\n",
    "model.add(BatchNormalization(input_shape=(3,32,32)))\n",
    "\n",
    "model.add(Conv2D(nb_filter2, (conv2_size, conv2_size), padding='same'))\n",
    "model.add(Activation('relu'))\n",
    "model.add(MaxPooling2D(pool_size=(pool_size, pool_size)))\n",
    "\n",
    "nb_filter3 = 32\n",
    "conv3_size = 2\n",
    "\n",
    "model.add(Conv2D(nb_filter3, (conv3_size, conv3_size), padding='same'))\n",
    "model.add(Activation('relu'))\n",
    "model.add(Dropout(0.2))\n",
    "model.add(MaxPooling2D(pool_size=(pool_size, pool_size)))\n",
    "\n",
    "model.add(Conv2D(nb_filter3, (conv3_size, conv3_size), padding='same'))\n",
    "model.add(Activation('relu'))\n",
    "model.add(Dropout(0.3))\n",
    "model.add(MaxPooling2D(pool_size=(pool_size, pool_size)))"
   ]
  },
  {
   "cell_type": "code",
   "execution_count": 153,
   "metadata": {},
   "outputs": [],
   "source": [
    "num_classes = 3\n",
    "\n",
    "model.add(Flatten())\n",
    "model.add(Dense(512))\n",
    "model.add(Activation('relu'))\n",
    "model.add(Dropout(0.3))\n",
    "model.add(Dense(num_classes, activation='softmax'))"
   ]
  },
  {
   "cell_type": "code",
   "execution_count": 154,
   "metadata": {},
   "outputs": [
    {
     "name": "stdout",
     "output_type": "stream",
     "text": [
      "_________________________________________________________________\n",
      "Layer (type)                 Output Shape              Param #   \n",
      "=================================================================\n",
      "conv2d_22 (Conv2D)           (None, 32, 32, 64)        1792      \n",
      "_________________________________________________________________\n",
      "activation_26 (Activation)   (None, 32, 32, 64)        0         \n",
      "_________________________________________________________________\n",
      "max_pooling2d_21 (MaxPooling (None, 16, 16, 64)        0         \n",
      "_________________________________________________________________\n",
      "batch_normalization_7 (Batch (None, 16, 16, 64)        256       \n",
      "_________________________________________________________________\n",
      "conv2d_23 (Conv2D)           (None, 16, 16, 64)        36928     \n",
      "_________________________________________________________________\n",
      "activation_27 (Activation)   (None, 16, 16, 64)        0         \n",
      "_________________________________________________________________\n",
      "max_pooling2d_22 (MaxPooling (None, 8, 8, 64)          0         \n",
      "_________________________________________________________________\n",
      "conv2d_24 (Conv2D)           (None, 8, 8, 32)          8224      \n",
      "_________________________________________________________________\n",
      "activation_28 (Activation)   (None, 8, 8, 32)          0         \n",
      "_________________________________________________________________\n",
      "dropout_10 (Dropout)         (None, 8, 8, 32)          0         \n",
      "_________________________________________________________________\n",
      "max_pooling2d_23 (MaxPooling (None, 4, 4, 32)          0         \n",
      "_________________________________________________________________\n",
      "conv2d_25 (Conv2D)           (None, 4, 4, 32)          4128      \n",
      "_________________________________________________________________\n",
      "activation_29 (Activation)   (None, 4, 4, 32)          0         \n",
      "_________________________________________________________________\n",
      "dropout_11 (Dropout)         (None, 4, 4, 32)          0         \n",
      "_________________________________________________________________\n",
      "max_pooling2d_24 (MaxPooling (None, 2, 2, 32)          0         \n",
      "_________________________________________________________________\n",
      "flatten_6 (Flatten)          (None, 128)               0         \n",
      "_________________________________________________________________\n",
      "dense_11 (Dense)             (None, 512)               66048     \n",
      "_________________________________________________________________\n",
      "activation_30 (Activation)   (None, 512)               0         \n",
      "_________________________________________________________________\n",
      "dropout_12 (Dropout)         (None, 512)               0         \n",
      "_________________________________________________________________\n",
      "dense_12 (Dense)             (None, 3)                 1539      \n",
      "=================================================================\n",
      "Total params: 118,915\n",
      "Trainable params: 118,787\n",
      "Non-trainable params: 128\n",
      "_________________________________________________________________\n"
     ]
    }
   ],
   "source": [
    "model.summary()"
   ]
  },
  {
   "cell_type": "code",
   "execution_count": 160,
   "metadata": {},
   "outputs": [
    {
     "data": {
      "text/plain": [
       "(19906, 3)"
      ]
     },
     "execution_count": 160,
     "metadata": {},
     "output_type": "execute_result"
    }
   ],
   "source": [
    "# opt = SGD(lr=0.01)\n",
    "model.compile(optimizer=\"nadam\",\n",
    "              loss='categorical_crossentropy', metrics=['accuracy'])\n",
    "train_Y.shape"
   ]
  },
  {
   "cell_type": "code",
   "execution_count": 161,
   "metadata": {},
   "outputs": [
    {
     "name": "stdout",
     "output_type": "stream",
     "text": [
      "Train on 17915 samples, validate on 1991 samples\n",
      "Epoch 1/50\n",
      "17915/17915 [==============================] - 134s 7ms/step - loss: 0.7512 - acc: 0.6761 - val_loss: 0.8208 - val_acc: 0.6655\n",
      "Epoch 2/50\n",
      "17915/17915 [==============================] - 136s 8ms/step - loss: 0.7118 - acc: 0.6891 - val_loss: 0.6965 - val_acc: 0.7157\n",
      "Epoch 3/50\n",
      "17915/17915 [==============================] - 127s 7ms/step - loss: 0.6841 - acc: 0.7071 - val_loss: 0.7127 - val_acc: 0.7052\n",
      "Epoch 4/50\n",
      "17915/17915 [==============================] - 127s 7ms/step - loss: 0.6637 - acc: 0.7177 - val_loss: 0.6955 - val_acc: 0.6961\n",
      "Epoch 5/50\n",
      "17915/17915 [==============================] - 125s 7ms/step - loss: 0.6419 - acc: 0.7253 - val_loss: 0.6806 - val_acc: 0.7162\n",
      "Epoch 6/50\n",
      "17915/17915 [==============================] - 123s 7ms/step - loss: 0.6314 - acc: 0.7316 - val_loss: 0.7385 - val_acc: 0.6991\n",
      "Epoch 7/50\n",
      "17915/17915 [==============================] - 124s 7ms/step - loss: 0.6223 - acc: 0.7389 - val_loss: 0.6674 - val_acc: 0.7177\n",
      "Epoch 8/50\n",
      "17915/17915 [==============================] - 124s 7ms/step - loss: 0.6095 - acc: 0.7396 - val_loss: 0.6361 - val_acc: 0.7172\n",
      "Epoch 9/50\n",
      "17915/17915 [==============================] - 124s 7ms/step - loss: 0.5924 - acc: 0.7495 - val_loss: 0.6420 - val_acc: 0.7217\n",
      "Epoch 10/50\n",
      "17915/17915 [==============================] - 125s 7ms/step - loss: 0.5894 - acc: 0.7493 - val_loss: 0.6086 - val_acc: 0.7474\n",
      "Epoch 11/50\n",
      "17915/17915 [==============================] - 124s 7ms/step - loss: 0.5750 - acc: 0.7578 - val_loss: 0.6697 - val_acc: 0.7137\n",
      "Epoch 12/50\n",
      "17915/17915 [==============================] - 125s 7ms/step - loss: 0.5667 - acc: 0.7590 - val_loss: 0.6394 - val_acc: 0.7187\n",
      "Epoch 13/50\n",
      "17915/17915 [==============================] - 125s 7ms/step - loss: 0.5533 - acc: 0.7675 - val_loss: 0.6130 - val_acc: 0.7469\n",
      "Epoch 14/50\n",
      "17915/17915 [==============================] - 125s 7ms/step - loss: 0.5459 - acc: 0.7734 - val_loss: 0.5952 - val_acc: 0.7454\n",
      "Epoch 15/50\n",
      "17915/17915 [==============================] - 125s 7ms/step - loss: 0.5383 - acc: 0.7790 - val_loss: 0.6307 - val_acc: 0.7328\n",
      "Epoch 16/50\n",
      "17915/17915 [==============================] - 125s 7ms/step - loss: 0.5259 - acc: 0.7840 - val_loss: 0.5888 - val_acc: 0.7413\n",
      "Epoch 17/50\n",
      "17915/17915 [==============================] - 125s 7ms/step - loss: 0.5186 - acc: 0.7838 - val_loss: 0.6041 - val_acc: 0.7393\n",
      "Epoch 18/50\n",
      "17915/17915 [==============================] - 124s 7ms/step - loss: 0.5059 - acc: 0.7885 - val_loss: 0.5457 - val_acc: 0.7755\n",
      "Epoch 19/50\n",
      "17915/17915 [==============================] - 124s 7ms/step - loss: 0.5000 - acc: 0.7911 - val_loss: 0.6125 - val_acc: 0.7358\n",
      "Epoch 20/50\n",
      "17915/17915 [==============================] - 124s 7ms/step - loss: 0.4966 - acc: 0.7935 - val_loss: 0.5961 - val_acc: 0.7459\n",
      "Epoch 21/50\n",
      "17915/17915 [==============================] - 124s 7ms/step - loss: 0.4802 - acc: 0.8022 - val_loss: 0.5670 - val_acc: 0.7609\n",
      "Epoch 22/50\n",
      "17915/17915 [==============================] - 124s 7ms/step - loss: 0.4823 - acc: 0.8006 - val_loss: 0.5972 - val_acc: 0.7489\n",
      "Epoch 23/50\n",
      "17915/17915 [==============================] - 124s 7ms/step - loss: 0.4698 - acc: 0.8056 - val_loss: 0.6071 - val_acc: 0.7443\n",
      "Epoch 24/50\n",
      "17915/17915 [==============================] - 125s 7ms/step - loss: 0.4628 - acc: 0.8107 - val_loss: 0.5906 - val_acc: 0.7469\n",
      "Epoch 25/50\n",
      "17915/17915 [==============================] - 124s 7ms/step - loss: 0.4552 - acc: 0.8104 - val_loss: 0.5894 - val_acc: 0.7609\n",
      "Epoch 26/50\n",
      "17915/17915 [==============================] - 125s 7ms/step - loss: 0.4554 - acc: 0.8143 - val_loss: 0.5854 - val_acc: 0.7589\n",
      "Epoch 27/50\n",
      "17915/17915 [==============================] - 125s 7ms/step - loss: 0.4525 - acc: 0.8167 - val_loss: 0.6056 - val_acc: 0.7514\n",
      "Epoch 28/50\n",
      "17915/17915 [==============================] - 125s 7ms/step - loss: 0.4443 - acc: 0.8160 - val_loss: 0.5974 - val_acc: 0.7569\n",
      "Epoch 29/50\n",
      "17915/17915 [==============================] - 125s 7ms/step - loss: 0.4306 - acc: 0.8245 - val_loss: 0.5701 - val_acc: 0.7735\n",
      "Epoch 30/50\n",
      "17915/17915 [==============================] - 125s 7ms/step - loss: 0.4295 - acc: 0.8293 - val_loss: 0.5685 - val_acc: 0.7579\n",
      "Epoch 31/50\n",
      "17915/17915 [==============================] - 125s 7ms/step - loss: 0.4257 - acc: 0.8247 - val_loss: 0.5568 - val_acc: 0.7755\n",
      "Epoch 32/50\n",
      "17915/17915 [==============================] - 125s 7ms/step - loss: 0.4175 - acc: 0.8281 - val_loss: 0.5643 - val_acc: 0.7649\n",
      "Epoch 33/50\n",
      "17915/17915 [==============================] - 124s 7ms/step - loss: 0.4096 - acc: 0.8329 - val_loss: 0.6915 - val_acc: 0.7112\n",
      "Epoch 34/50\n",
      "17915/17915 [==============================] - 125s 7ms/step - loss: 0.4080 - acc: 0.8324 - val_loss: 0.5798 - val_acc: 0.7624\n",
      "Epoch 35/50\n",
      "17915/17915 [==============================] - 124s 7ms/step - loss: 0.4232 - acc: 0.8284 - val_loss: 0.5742 - val_acc: 0.7594\n",
      "Epoch 36/50\n",
      "17915/17915 [==============================] - 124s 7ms/step - loss: 0.4093 - acc: 0.8338 - val_loss: 0.5677 - val_acc: 0.7614\n",
      "Epoch 37/50\n",
      "17915/17915 [==============================] - 124s 7ms/step - loss: 0.3931 - acc: 0.8399 - val_loss: 0.5743 - val_acc: 0.7519\n",
      "Epoch 38/50\n",
      "17915/17915 [==============================] - 125s 7ms/step - loss: 0.3999 - acc: 0.8377 - val_loss: 0.6175 - val_acc: 0.7479\n",
      "Epoch 39/50\n",
      "17915/17915 [==============================] - 125s 7ms/step - loss: 0.3925 - acc: 0.8415 - val_loss: 0.5473 - val_acc: 0.7760\n",
      "Epoch 40/50\n",
      "17915/17915 [==============================] - 124s 7ms/step - loss: 0.3804 - acc: 0.8495 - val_loss: 0.5861 - val_acc: 0.7644\n",
      "Epoch 41/50\n",
      "17915/17915 [==============================] - 125s 7ms/step - loss: 0.3929 - acc: 0.8410 - val_loss: 0.5754 - val_acc: 0.7574\n",
      "Epoch 42/50\n",
      "17915/17915 [==============================] - 124s 7ms/step - loss: 0.3866 - acc: 0.8462 - val_loss: 0.5763 - val_acc: 0.7654\n",
      "Epoch 43/50\n",
      "17915/17915 [==============================] - 125s 7ms/step - loss: 0.3752 - acc: 0.8500 - val_loss: 0.6115 - val_acc: 0.7509\n",
      "Epoch 44/50\n",
      "17915/17915 [==============================] - 125s 7ms/step - loss: 0.3769 - acc: 0.8493 - val_loss: 0.6071 - val_acc: 0.7700\n",
      "Epoch 45/50\n",
      "17915/17915 [==============================] - 124s 7ms/step - loss: 0.3627 - acc: 0.8540 - val_loss: 0.6334 - val_acc: 0.7534\n",
      "Epoch 46/50\n",
      "17915/17915 [==============================] - 125s 7ms/step - loss: 0.3658 - acc: 0.8535 - val_loss: 0.5537 - val_acc: 0.7885\n",
      "Epoch 47/50\n",
      "17915/17915 [==============================] - 125s 7ms/step - loss: 0.3542 - acc: 0.8569 - val_loss: 0.5563 - val_acc: 0.7795\n",
      "Epoch 48/50\n",
      "17915/17915 [==============================] - 125s 7ms/step - loss: 0.3624 - acc: 0.8530 - val_loss: 0.6360 - val_acc: 0.7288\n",
      "Epoch 49/50\n",
      "17915/17915 [==============================] - 124s 7ms/step - loss: 0.3557 - acc: 0.8567 - val_loss: 0.5561 - val_acc: 0.7860\n",
      "Epoch 50/50\n",
      "17915/17915 [==============================] - 124s 7ms/step - loss: 0.3547 - acc: 0.8584 - val_loss: 0.6232 - val_acc: 0.7599\n"
     ]
    },
    {
     "data": {
      "text/plain": [
       "<keras.callbacks.History at 0x7fc84aefa7b8>"
      ]
     },
     "execution_count": 161,
     "metadata": {},
     "output_type": "execute_result"
    }
   ],
   "source": [
    "model.fit(x=train_X, y=train_Y, epochs=50, validation_split=0.1)"
   ]
  },
  {
   "cell_type": "code",
   "execution_count": 162,
   "metadata": {},
   "outputs": [
    {
     "data": {
      "text/plain": [
       "<matplotlib.image.AxesImage at 0x7fc848186780>"
      ]
     },
     "execution_count": 162,
     "metadata": {},
     "output_type": "execute_result"
    },
    {
     "data": {
      "image/png": "[encoded data removed]",
      "text/plain": [
       "<Figure size 432x288 with 1 Axes>"
      ]
     },
     "metadata": {},
     "output_type": "display_data"
    }
   ],
   "source": [
    "img = cv2.cvtColor(train_X[7000], cv2.COLOR_BGR2RGB)\n",
    "plt.imshow(img)"
   ]
  },
  {
   "cell_type": "code",
   "execution_count": 163,
   "metadata": {},
   "outputs": [
    {
     "data": {
      "text/plain": [
       "array([1])"
      ]
     },
     "execution_count": 163,
     "metadata": {},
     "output_type": "execute_result"
    }
   ],
   "source": [
    "prediction = model.predict(train_X[7000:7001])\n",
    "prediction = prediction.argmax(axis=1)\n",
    "prediction"
   ]
  },
  {
   "cell_type": "code",
   "execution_count": 164,
   "metadata": {},
   "outputs": [
    {
     "data": {
      "text/plain": [
       "array([1])"
      ]
     },
     "execution_count": 164,
     "metadata": {},
     "output_type": "execute_result"
    }
   ],
   "source": [
    "train_Y[7000:7001].argmax(axis=1)"
   ]
  },
  {
   "cell_type": "code",
   "execution_count": 165,
   "metadata": {},
   "outputs": [
    {
     "name": "stdout",
     "output_type": "stream",
     "text": [
      "19000/19000 [==============================] - 53s 3ms/step\n"
     ]
    },
    {
     "data": {
      "text/plain": [
       "[0.3372523833701485, 0.8633157894736843]"
      ]
     },
     "execution_count": 165,
     "metadata": {},
     "output_type": "execute_result"
    }
   ],
   "source": [
    "model.evaluate(train_X[:19000], train_Y[:19000])"
   ]
  },
  {
   "cell_type": "code",
   "execution_count": 166,
   "metadata": {},
   "outputs": [],
   "source": [
    "test_Y = model.predict(test_X)"
   ]
  },
  {
   "cell_type": "code",
   "execution_count": 167,
   "metadata": {},
   "outputs": [],
   "source": [
    "test_Y = test_Y.argmax(axis=1)"
   ]
  },
  {
   "cell_type": "code",
   "execution_count": 168,
   "metadata": {},
   "outputs": [],
   "source": [
    "dict1 = { 'YOUNG' : 0, 'MIDDLE': 1, 'OLD': 2 }\n",
    "test_C = []\n",
    "for i in range(test_Y.shape[0]):\n",
    "    test_C.append(list(dict1.keys())[list(dict1.values()).index(test_Y[i])])\n",
    "# test_C\n",
    "test_df['Class'] = test_C"
   ]
  },
  {
   "cell_type": "code",
   "execution_count": 169,
   "metadata": {},
   "outputs": [
    {
     "data": {
      "text/plain": [
       "ID       object\n",
       "Class    object\n",
       "dtype: object"
      ]
     },
     "execution_count": 169,
     "metadata": {},
     "output_type": "execute_result"
    }
   ],
   "source": [
    "test_df.dtypes"
   ]
  },
  {
   "cell_type": "code",
   "execution_count": 170,
   "metadata": {},
   "outputs": [],
   "source": [
    "test_df.to_csv(\"../../data/actor_age/test_out.csv\", columns=[\"ID\", \"Class\"], index=False)"
   ]
  },
  {
   "cell_type": "code",
   "execution_count": null,
   "metadata": {},
   "outputs": [],
   "source": []
  }
 ],
 "metadata": {
  "kernelspec": {
   "display_name": "Python 3",
   "language": "python",
   "name": "python3"
  },
  "language_info": {
   "codemirror_mode": {
    "name": "ipython",
    "version": 3
   },
   "file_extension": ".py",
   "mimetype": "text/x-python",
   "name": "python",
   "nbconvert_exporter": "python",
   "pygments_lexer": "ipython3",
   "version": "3.6.5"
  }
 },
 "nbformat": 4,
 "nbformat_minor": 2
}
