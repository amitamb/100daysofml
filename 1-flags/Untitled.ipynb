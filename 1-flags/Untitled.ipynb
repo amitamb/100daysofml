{
 "cells": [
  {
   "cell_type": "code",
   "execution_count": 1,
   "metadata": {},
   "outputs": [
    {
     "name": "stderr",
     "output_type": "stream",
     "text": [
      "/home/amit/anaconda3/envs/tf/lib/python3.6/site-packages/h5py/__init__.py:36: FutureWarning: Conversion of the second argument of issubdtype from `float` to `np.floating` is deprecated. In future, it will be treated as `np.float64 == np.dtype(float).type`.\n",
      "  from ._conv import register_converters as _register_converters\n",
      "Using TensorFlow backend.\n"
     ]
    }
   ],
   "source": [
    "import sys\n",
    "import os\n",
    "from keras.preprocessing.image import ImageDataGenerator\n",
    "from keras import optimizers\n",
    "from keras.models import Sequential, Model\n",
    "from keras.layers import Dropout, Flatten, Dense, Activation\n",
    "from keras.layers.convolutional import Conv2D, MaxPooling2D\n",
    "from keras import callbacks"
   ]
  },
  {
   "cell_type": "code",
   "execution_count": 16,
   "metadata": {},
   "outputs": [
    {
     "name": "stdout",
     "output_type": "stream",
     "text": [
      "Found 459 images belonging to 2 classes.\n",
      "Found 76 images belonging to 2 classes.\n"
     ]
    }
   ],
   "source": [
    "train_data_dir = './data/train'\n",
    "validation_data_dir = './data/test'\n",
    "\n",
    "img_width, img_height = 90, 90\n",
    "batch_size = 32\n",
    "\n",
    "train_datagen = ImageDataGenerator(rescale= 1. / 255, shear_range = 0.2, zoom_range = 0.2, horizontal_flip = False)\n",
    "\n",
    "test_datagen = ImageDataGenerator(\n",
    "    rescale=1. / 255)\n",
    "\n",
    "train_generator = train_datagen.flow_from_directory(\n",
    "    train_data_dir,\n",
    "    target_size=(img_height, img_width),\n",
    "    batch_size=batch_size,\n",
    "    class_mode='categorical')\n",
    "\n",
    "validation_generator = test_datagen.flow_from_directory(\n",
    "    validation_data_dir,\n",
    "    target_size=(img_height, img_width),\n",
    "    batch_size=batch_size,\n",
    "    class_mode='categorical')"
   ]
  },
  {
   "cell_type": "code",
   "execution_count": 17,
   "metadata": {},
   "outputs": [],
   "source": [
    "nb_filters1 = 32\n",
    "conv1_size = 3\n",
    "pool_size = 2\n",
    "\n",
    "model = Sequential()\n",
    "model.add(Conv2D(nb_filters1, (conv1_size, conv1_size), padding=\"same\", input_shape=(img_width, img_height, 3)))\n",
    "model.add(Activation(\"relu\"))\n",
    "model.add(MaxPooling2D(pool_size=(pool_size, pool_size)))"
   ]
  },
  {
   "cell_type": "code",
   "execution_count": 18,
   "metadata": {},
   "outputs": [],
   "source": [
    "nb_filters2 = 64\n",
    "conv2_size = 2\n",
    "\n",
    "model.add(Conv2D(nb_filters2, (conv2_size, conv2_size), padding=\"same\"))\n",
    "model.add(Activation(\"relu\"))\n",
    "model.add(MaxPooling2D(pool_size=(pool_size, pool_size))) # , data_format='channels_first'))"
   ]
  },
  {
   "cell_type": "code",
   "execution_count": 19,
   "metadata": {},
   "outputs": [],
   "source": [
    "classes_num = 2\n",
    "\n",
    "model.add(Flatten())\n",
    "model.add(Dense(256))\n",
    "model.add(Activation(\"relu\"))\n",
    "model.add(Dropout(0.5))\n",
    "model.add(Dense(classes_num, activation='softmax'))"
   ]
  },
  {
   "cell_type": "code",
   "execution_count": 20,
   "metadata": {},
   "outputs": [],
   "source": [
    "lr = 0.0004\n",
    "\n",
    "model.compile(loss='categorical_crossentropy',\n",
    "              optimizer=optimizers.RMSprop(lr=lr),\n",
    "              metrics=['accuracy'])"
   ]
  },
  {
   "cell_type": "code",
   "execution_count": 21,
   "metadata": {},
   "outputs": [
    {
     "name": "stdout",
     "output_type": "stream",
     "text": [
      "_________________________________________________________________\n",
      "Layer (type)                 Output Shape              Param #   \n",
      "=================================================================\n",
      "conv2d_3 (Conv2D)            (None, 90, 90, 32)        896       \n",
      "_________________________________________________________________\n",
      "activation_4 (Activation)    (None, 90, 90, 32)        0         \n",
      "_________________________________________________________________\n",
      "max_pooling2d_3 (MaxPooling2 (None, 45, 45, 32)        0         \n",
      "_________________________________________________________________\n",
      "conv2d_4 (Conv2D)            (None, 45, 45, 64)        8256      \n",
      "_________________________________________________________________\n",
      "activation_5 (Activation)    (None, 45, 45, 64)        0         \n",
      "_________________________________________________________________\n",
      "max_pooling2d_4 (MaxPooling2 (None, 22, 22, 64)        0         \n",
      "_________________________________________________________________\n",
      "flatten_2 (Flatten)          (None, 30976)             0         \n",
      "_________________________________________________________________\n",
      "dense_3 (Dense)              (None, 256)               7930112   \n",
      "_________________________________________________________________\n",
      "activation_6 (Activation)    (None, 256)               0         \n",
      "_________________________________________________________________\n",
      "dropout_2 (Dropout)          (None, 256)               0         \n",
      "_________________________________________________________________\n",
      "dense_4 (Dense)              (None, 2)                 514       \n",
      "=================================================================\n",
      "Total params: 7,939,778\n",
      "Trainable params: 7,939,778\n",
      "Non-trainable params: 0\n",
      "_________________________________________________________________\n"
     ]
    }
   ],
   "source": [
    "model.summary()"
   ]
  },
  {
   "cell_type": "code",
   "execution_count": 22,
   "metadata": {},
   "outputs": [],
   "source": [
    "log_dir = './tf-log/'\n",
    "tb_cb = callbacks.TensorBoard(log_dir=log_dir, histogram_freq=0)\n",
    "cbks = [tb_cb]"
   ]
  },
  {
   "cell_type": "code",
   "execution_count": 23,
   "metadata": {},
   "outputs": [
    {
     "name": "stderr",
     "output_type": "stream",
     "text": [
      "/home/amit/anaconda3/envs/tf/lib/python3.6/site-packages/ipykernel_launcher.py:12: UserWarning: Update your `fit_generator` call to the Keras 2 API: `fit_generator(<keras.pre..., epochs=10, validation_data=<keras.pre..., callbacks=[<keras.ca..., validation_steps=50, steps_per_epoch=12)`\n",
      "  if sys.path[0] == '':\n"
     ]
    },
    {
     "name": "stdout",
     "output_type": "stream",
     "text": [
      "Epoch 1/10\n",
      "12/12 [==============================] - 19s 2s/step - loss: 1.3281 - acc: 0.6351 - val_loss: 0.4778 - val_acc: 0.7758\n",
      "Epoch 2/10\n",
      "12/12 [==============================] - 21s 2s/step - loss: 0.3155 - acc: 0.8489 - val_loss: 0.4007 - val_acc: 0.8422\n",
      "Epoch 3/10\n",
      "12/12 [==============================] - 24s 2s/step - loss: 0.2296 - acc: 0.8934 - val_loss: 0.3785 - val_acc: 0.8305\n",
      "Epoch 4/10\n",
      "12/12 [==============================] - 21s 2s/step - loss: 0.1773 - acc: 0.9115 - val_loss: 0.3774 - val_acc: 0.8422\n",
      "Epoch 5/10\n",
      "12/12 [==============================] - 18s 2s/step - loss: 0.1916 - acc: 0.9058 - val_loss: 0.3377 - val_acc: 0.8820\n",
      "Epoch 6/10\n",
      "12/12 [==============================] - 23s 2s/step - loss: 0.1393 - acc: 0.9352 - val_loss: 0.5579 - val_acc: 0.8156\n",
      "Epoch 7/10\n",
      "12/12 [==============================] - 24s 2s/step - loss: 0.1276 - acc: 0.9346 - val_loss: 0.3527 - val_acc: 0.9070\n",
      "Epoch 8/10\n",
      "12/12 [==============================] - 23s 2s/step - loss: 0.1312 - acc: 0.9451 - val_loss: 0.5503 - val_acc: 0.8281\n",
      "Epoch 9/10\n",
      "12/12 [==============================] - 25s 2s/step - loss: 0.1074 - acc: 0.9479 - val_loss: 0.4489 - val_acc: 0.8938\n",
      "Epoch 10/10\n",
      "12/12 [==============================] - 21s 2s/step - loss: 0.1227 - acc: 0.9529 - val_loss: 0.3984 - val_acc: 0.8945\n"
     ]
    },
    {
     "data": {
      "text/plain": [
       "<keras.callbacks.History at 0x7fdfb18ef2b0>"
      ]
     },
     "execution_count": 23,
     "metadata": {},
     "output_type": "execute_result"
    }
   ],
   "source": [
    "nb_train_samples = 400\n",
    "nb_validation_samples = 50\n",
    "\n",
    "epochs = 10\n",
    "\n",
    "model.fit_generator(\n",
    "    train_generator,\n",
    "    samples_per_epoch=nb_train_samples,\n",
    "    epochs=epochs,\n",
    "    validation_data=validation_generator,\n",
    "    callbacks=cbks,\n",
    "    validation_steps=nb_validation_samples)"
   ]
  },
  {
   "cell_type": "code",
   "execution_count": 10,
   "metadata": {},
   "outputs": [],
   "source": [
    "target_dir = './models/'\n",
    "if not os.path.exists(target_dir):\n",
    "  os.mkdir(target_dir)\n",
    "model.save('./models/model.h5')\n",
    "model.save_weights('./models/weights.h5')"
   ]
  },
  {
   "cell_type": "code",
   "execution_count": 11,
   "metadata": {},
   "outputs": [],
   "source": [
    "import os\n",
    "import numpy as np\n",
    "from keras.preprocessing.image import ImageDataGenerator, load_img, img_to_array\n",
    "from keras.models import Sequential, load_model"
   ]
  },
  {
   "cell_type": "code",
   "execution_count": 12,
   "metadata": {},
   "outputs": [],
   "source": [
    "img_width, img_height = 90, 90\n",
    "model_path = './models/model.h5'\n",
    "model_weights_path = './models/weights.h5'\n",
    "model = load_model(model_path)\n",
    "model.load_weights(model_weights_path)"
   ]
  },
  {
   "cell_type": "code",
   "execution_count": 13,
   "metadata": {},
   "outputs": [],
   "source": [
    "def predict(file):\n",
    "  x = load_img(file, target_size=(img_width,img_height))\n",
    "  x = img_to_array(x)\n",
    "  x = np.expand_dims(x, axis=0)\n",
    "  print(x[0][10][10])\n",
    "  array = model.predict(x)\n",
    "  result = array[0]\n",
    "  if result[0] > result[1]:\n",
    "    print(\"Predicted answer: France\")\n",
    "    answer = 'france'\n",
    "  else:\n",
    "    print(\"Predicted answer: India\")\n",
    "    answer = 'india'\n",
    "\n",
    "  return answer"
   ]
  },
  {
   "cell_type": "code",
   "execution_count": 14,
   "metadata": {},
   "outputs": [
    {
     "name": "stdout",
     "output_type": "stream",
     "text": [
      "[237. 237. 239.]\n",
      "Predicted answer: India\n",
      "[255. 255. 255.]\n",
      "Predicted answer: India\n"
     ]
    }
   ],
   "source": [
    "testdata_dir = './test-data'\n",
    "result = predict(testdata_dir + '/' + 'france1.jpg')\n",
    "result = predict(testdata_dir + '/' + 'france2.jpg')"
   ]
  },
  {
   "cell_type": "code",
   "execution_count": 15,
   "metadata": {},
   "outputs": [
    {
     "name": "stdout",
     "output_type": "stream",
     "text": [
      "[241. 241. 241.]\n",
      "Predicted answer: India\n"
     ]
    }
   ],
   "source": [
    "result = predict(testdata_dir + '/' + 'india1.jpg')"
   ]
  },
  {
   "cell_type": "code",
   "execution_count": 76,
   "metadata": {},
   "outputs": [],
   "source": [
    "file = testdata_dir + '/' + 'india1.jpg'\n",
    "x = load_img(file, target_size=(img_width,img_height))\n",
    "x = img_to_array(x)"
   ]
  },
  {
   "cell_type": "code",
   "execution_count": 85,
   "metadata": {},
   "outputs": [
    {
     "data": {
      "text/plain": [
       "array([101., 115., 162.], dtype=float32)"
      ]
     },
     "execution_count": 85,
     "metadata": {},
     "output_type": "execute_result"
    }
   ],
   "source": [
    "x[45][45]"
   ]
  },
  {
   "cell_type": "code",
   "execution_count": 94,
   "metadata": {},
   "outputs": [
    {
     "name": "stdout",
     "output_type": "stream",
     "text": [
      "[0.9450981 0.9450981 0.9450981]\n"
     ]
    },
    {
     "data": {
      "image/png": "[encoded data removed]",
      "text/plain": [
       "<Figure size 432x288 with 1 Axes>"
      ]
     },
     "metadata": {},
     "output_type": "display_data"
    }
   ],
   "source": [
    "import numpy as np\n",
    "from matplotlib import pyplot\n",
    "\n",
    "file = testdata_dir + '/' + 'india1.jpg'\n",
    "\n",
    "img = load_img(file)\n",
    "img_arr = np.expand_dims(img_to_array(img), axis=0)\n",
    "datagen = ImageDataGenerator(rescale=1./255)\n",
    "\n",
    "for batch in datagen.flow(img_arr, batch_size=1):\n",
    "    print(batch[0][0][0])\n",
    "    pyplot.imshow(batch[0])\n",
    "    pyplot.show()\n",
    "    break"
   ]
  },
  {
   "cell_type": "code",
   "execution_count": null,
   "metadata": {},
   "outputs": [],
   "source": []
  }
 ],
 "metadata": {
  "kernelspec": {
   "display_name": "Python 3",
   "language": "python",
   "name": "python3"
  },
  "language_info": {
   "codemirror_mode": {
    "name": "ipython",
    "version": 3
   },
   "file_extension": ".py",
   "mimetype": "text/x-python",
   "name": "python",
   "nbconvert_exporter": "python",
   "pygments_lexer": "ipython3",
   "version": "3.6.5"
  }
 },
 "nbformat": 4,
 "nbformat_minor": 2
}
