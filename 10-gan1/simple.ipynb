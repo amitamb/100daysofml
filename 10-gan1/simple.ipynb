{
 "cells": [
  {
   "cell_type": "code",
   "execution_count": 1,
   "metadata": {},
   "outputs": [
    {
     "name": "stderr",
     "output_type": "stream",
     "text": [
      "/home/amit/anaconda3/envs/tf/lib/python3.6/site-packages/h5py/__init__.py:36: FutureWarning: Conversion of the second argument of issubdtype from `float` to `np.floating` is deprecated. In future, it will be treated as `np.float64 == np.dtype(float).type`.\n",
      "  from ._conv import register_converters as _register_converters\n"
     ]
    }
   ],
   "source": [
    "import numpy as np\n",
    "import tensorflow as tf\n",
    "from tensorflow import keras\n",
    "\n",
    "import matplotlib.pyplot as plt\n",
    "%matplotlib inline"
   ]
  },
  {
   "cell_type": "code",
   "execution_count": 2,
   "metadata": {},
   "outputs": [],
   "source": [
    "MEAN = 7\n",
    "STD = 3"
   ]
  },
  {
   "cell_type": "code",
   "execution_count": 3,
   "metadata": {},
   "outputs": [],
   "source": [
    "orig_sampler = lambda: np.random.normal(loc=MEAN, scale=STD)"
   ]
  },
  {
   "cell_type": "code",
   "execution_count": 4,
   "metadata": {},
   "outputs": [],
   "source": [
    "orig_data = [orig_sampler() for _ in range(500)]"
   ]
  },
  {
   "cell_type": "code",
   "execution_count": 5,
   "metadata": {},
   "outputs": [
    {
     "data": {
      "text/plain": [
       "(array([  2.,  21.,  75., 117., 139.,  94.,  39.,   7.,   5.,   1.]),\n",
       " array([-2.10975982,  0.02060073,  2.15096127,  4.28132181,  6.41168236,\n",
       "         8.5420429 , 10.67240344, 12.80276399, 14.93312453, 17.06348508,\n",
       "        19.19384562]),\n",
       " <a list of 10 Patch objects>)"
      ]
     },
     "execution_count": 5,
     "metadata": {},
     "output_type": "execute_result"
    },
    {
     "data": {
      "image/png": "[encoded data removed]",
      "text/plain": [
       "<Figure size 432x288 with 1 Axes>"
      ]
     },
     "metadata": {},
     "output_type": "display_data"
    }
   ],
   "source": [
    "plt.hist(orig_data)"
   ]
  },
  {
   "cell_type": "code",
   "execution_count": 6,
   "metadata": {},
   "outputs": [
    {
     "name": "stdout",
     "output_type": "stream",
     "text": [
      "_________________________________________________________________\n",
      "Layer (type)                 Output Shape              Param #   \n",
      "=================================================================\n",
      "dense_1 (Dense)              (None, 8)                 16        \n",
      "_________________________________________________________________\n",
      "dense_2 (Dense)              (None, 1)                 9         \n",
      "=================================================================\n",
      "Total params: 25\n",
      "Trainable params: 25\n",
      "Non-trainable params: 0\n",
      "_________________________________________________________________\n"
     ]
    },
    {
     "name": "stderr",
     "output_type": "stream",
     "text": [
      "Using TensorFlow backend.\n"
     ]
    }
   ],
   "source": [
    "# create generator\n",
    "from keras.models import Sequential\n",
    "from keras.layers import Dense\n",
    "import keras.backend as _K\n",
    "import tensorflow as tf\n",
    "from keras.optimizers import Adam\n",
    "\n",
    "G = Sequential()\n",
    "G.add(Dense(8, activation='relu', input_dim=1))\n",
    "G.add(Dense(1, activation='relu'))\n",
    "\n",
    "G.summary()\n",
    "\n",
    "G.compile(optimizer=Adam(lr=0.0001), loss='binary_crossentropy')"
   ]
  },
  {
   "cell_type": "code",
   "execution_count": 7,
   "metadata": {},
   "outputs": [],
   "source": [
    "from scipy import stats\n",
    "\n",
    "MOMENTS_SIZE = 2\n",
    "\n",
    "def get_moments(data):\n",
    "#     print(data)\n",
    "    mean = np.mean(data)\n",
    "    std = np.std(data)\n",
    "    # kurt = stats.kurtosis(data)\n",
    "    # skew = stats.skew(data)\n",
    "    # kurt = 1\n",
    "    # skew = 1\n",
    "    return np.array([mean, std]).reshape(1, 2)"
   ]
  },
  {
   "cell_type": "code",
   "execution_count": 8,
   "metadata": {},
   "outputs": [
    {
     "data": {
      "text/plain": [
       "array([[6.37879055, 3.71680771]])"
      ]
     },
     "execution_count": 8,
     "metadata": {},
     "output_type": "execute_result"
    }
   ],
   "source": [
    "get_moments([orig_sampler() for _ in range(50)])"
   ]
  },
  {
   "cell_type": "code",
   "execution_count": 9,
   "metadata": {},
   "outputs": [
    {
     "name": "stdout",
     "output_type": "stream",
     "text": [
      "_________________________________________________________________\n",
      "Layer (type)                 Output Shape              Param #   \n",
      "=================================================================\n",
      "dense_3 (Dense)              (None, 10)                30        \n",
      "_________________________________________________________________\n",
      "dense_4 (Dense)              (None, 8)                 88        \n",
      "_________________________________________________________________\n",
      "dense_5 (Dense)              (None, 1)                 9         \n",
      "=================================================================\n",
      "Total params: 127\n",
      "Trainable params: 127\n",
      "Non-trainable params: 0\n",
      "_________________________________________________________________\n"
     ]
    }
   ],
   "source": [
    "D = Sequential()\n",
    "D.add(Dense(10, activation='relu', input_dim=MOMENTS_SIZE))\n",
    "D.add(Dense(8, activation='relu'))\n",
    "D.add(Dense(1, activation='sigmoid'))\n",
    "\n",
    "D.summary()\n",
    "\n",
    "D.compile(optimizer=Adam(lr=0.0001), loss='binary_crossentropy')"
   ]
  },
  {
   "cell_type": "code",
   "execution_count": null,
   "metadata": {},
   "outputs": [],
   "source": []
  },
  {
   "cell_type": "code",
   "execution_count": 10,
   "metadata": {},
   "outputs": [
    {
     "name": "stdout",
     "output_type": "stream",
     "text": [
      "_________________________________________________________________\n",
      "Layer (type)                 Output Shape              Param #   \n",
      "=================================================================\n",
      "input_1 (InputLayer)         (None, 500)               0         \n",
      "_________________________________________________________________\n",
      "lambda_1 (Lambda)            (None, 500)               0         \n",
      "_________________________________________________________________\n",
      "lambda_2 (Lambda)            (None, 2)                 0         \n",
      "_________________________________________________________________\n",
      "sequential_2 (Sequential)    (None, 1)                 127       \n",
      "=================================================================\n",
      "Total params: 127\n",
      "Trainable params: 127\n",
      "Non-trainable params: 0\n",
      "_________________________________________________________________\n"
     ]
    }
   ],
   "source": [
    "import pdb;\n",
    "from keras.layers import Input, Lambda\n",
    "from keras.models import Model\n",
    "\n",
    "def get_moments_k(data):\n",
    "    # print(data)\n",
    "    mean = _K.mean(data, axis=-1, keepdims=True)\n",
    "    std = _K.std(data, axis=-1, keepdims=True)\n",
    "#     print(mean)\n",
    "    # pdb.set_trace()\n",
    "    # kurt = stats.kurtosis(data)\n",
    "    # skew = stats.skew(data)\n",
    "#     kurt = _K.constant(1)\n",
    "#     skew = _K.constant(1)\n",
    "    return _K.concatenate([mean, std])\n",
    "#     return [mean, std, kurt, skew]\n",
    "\n",
    "def apply_g(val):\n",
    "#     print(val.shape)\n",
    "    ret_val = G(_K.reshape(val, (1,1)))[0][0]\n",
    "#     print(ret_val.shape)\n",
    "#     ret_val = val\n",
    "#     print(ret_val)\n",
    "    return ret_val\n",
    "\n",
    "# get combined G and D for training G\n",
    "gan_input = Input(shape=(500,))\n",
    "# x = G(gan_input)\n",
    "# x = Lambda(lambda j: _K.concatenate([G(j) for _ in range(500)]))(gan_input)\n",
    "x = Lambda(lambda j: _K.map_fn(lambda v: _K.map_fn(apply_g, v), j))(gan_input)\n",
    "# x = gan_input\n",
    "x = Lambda(lambda p: get_moments_k(p))(x)\n",
    "gan_output = D(x)\n",
    "C= Model(inputs=gan_input, outputs=gan_output)\n",
    "C.compile(loss='binary_crossentropy', optimizer=Adam(lr=0.0001))\n",
    "C.summary()"
   ]
  },
  {
   "cell_type": "code",
   "execution_count": null,
   "metadata": {},
   "outputs": [
    {
     "name": "stdout",
     "output_type": "stream",
     "text": [
      "Epoch #0\n",
      "Epoch 1/1\n",
      "1/1 [==============================] - 0s 2ms/step - loss: 1.2290\n",
      "Epoch 1/2\n",
      "1/1 [==============================] - 0s 2ms/step - loss: 0.6918\n",
      "Epoch 2/2\n",
      "1/1 [==============================] - 0s 3ms/step - loss: 0.6917\n"
     ]
    },
    {
     "name": "stderr",
     "output_type": "stream",
     "text": [
      "/home/amit/anaconda3/envs/tf/lib/python3.6/site-packages/keras/engine/training.py:479: UserWarning: Discrepancy between trainable weights and collected trainable weights, did you set `model.trainable` without calling `model.compile` after ?\n",
      "  'Discrepancy between trainable weights and collected trainable'\n"
     ]
    },
    {
     "name": "stdout",
     "output_type": "stream",
     "text": [
      "Epoch 1/2\n",
      "1/1 [==============================] - 0s 89ms/step - loss: 0.6919\n",
      "Epoch 2/2\n",
      "1/1 [==============================] - 0s 99ms/step - loss: 0.6918\n",
      "Epoch #1\n",
      "Epoch 1/1\n",
      "1/1 [==============================] - 0s 2ms/step - loss: 1.1243\n",
      "Epoch 1/2\n",
      "1/1 [==============================] - 0s 3ms/step - loss: 0.6930\n",
      "Epoch 2/2\n",
      "1/1 [==============================] - 0s 3ms/step - loss: 0.6930\n",
      "Epoch 1/2\n",
      "1/1 [==============================] - 0s 85ms/step - loss: 0.6866\n",
      "Epoch 2/2\n",
      "1/1 [==============================] - 0s 103ms/step - loss: 0.6864\n",
      "Epoch #2\n",
      "Epoch 1/1\n",
      "1/1 [==============================] - 0s 2ms/step - loss: 1.0415\n",
      "Epoch 1/2\n",
      "1/1 [==============================] - 0s 2ms/step - loss: 0.6969\n",
      "Epoch 2/2\n",
      "1/1 [==============================] - 0s 3ms/step - loss: 0.6968\n",
      "Epoch 1/2\n",
      "1/1 [==============================] - 0s 90ms/step - loss: 0.6832\n",
      "Epoch 2/2\n",
      "1/1 [==============================] - 0s 99ms/step - loss: 0.6830\n",
      "Epoch #3\n",
      "Epoch 1/1\n",
      "1/1 [==============================] - 0s 2ms/step - loss: 0.9431\n",
      "Epoch 1/2\n",
      "1/1 [==============================] - 0s 3ms/step - loss: 0.7003\n",
      "Epoch 2/2\n",
      "1/1 [==============================] - 0s 3ms/step - loss: 0.7002\n",
      "Epoch 1/2\n",
      "1/1 [==============================] - 0s 84ms/step - loss: 0.6801\n",
      "Epoch 2/2\n",
      "1/1 [==============================] - 0s 97ms/step - loss: 0.6799\n",
      "Epoch #4\n",
      "Epoch 1/1\n",
      "1/1 [==============================] - 0s 2ms/step - loss: 0.8398\n",
      "Epoch 1/2\n",
      "1/1 [==============================] - 0s 2ms/step - loss: 0.7034\n",
      "Epoch 2/2\n",
      "1/1 [==============================] - 0s 3ms/step - loss: 0.7034\n"
     ]
    }
   ],
   "source": [
    "for i in range(10):\n",
    "    print(\"Epoch #%d\" % i)\n",
    "    for j in range(20):\n",
    "        # single epoch\n",
    "        D.trainable = True\n",
    "        real_data = [orig_sampler() for _ in range(500)]\n",
    "        G_entropy = np.random.rand(500)\n",
    "        fake_data = G.predict(G_entropy)\n",
    "\n",
    "        real_moments = get_moments(real_data)\n",
    "        fake_moments = get_moments(fake_data)\n",
    "\n",
    "        D.fit(real_moments, np.ones(1), epochs=1, verbose=(1 if j == 19 else 0))\n",
    "        D.fit(fake_moments, np.zeros(1), epochs=2, verbose=(1 if j == 19 else 0))\n",
    "    for k in range(20):\n",
    "        # train G\n",
    "        D.trainable = False\n",
    "        G_entropy = np.random.rand(500)\n",
    "        # print(G_entropy.shape)\n",
    "        C.fit(G_entropy.reshape(1, 500), np.ones(1), epochs=2, verbose=(1 if k == 19 else 0))"
   ]
  },
  {
   "cell_type": "code",
   "execution_count": null,
   "metadata": {},
   "outputs": [],
   "source": [
    "G_entropy = np.random.rand(500)\n",
    "fake_data = G.predict(G_entropy)\n",
    "plt.hist(fake_data)\n",
    "fake_moments = get_moments(fake_data)\n",
    "print(fake_moments)\n",
    "print(D.predict(fake_moments))"
   ]
  },
  {
   "cell_type": "code",
   "execution_count": null,
   "metadata": {},
   "outputs": [],
   "source": []
  }
 ],
 "metadata": {
  "kernelspec": {
   "display_name": "Python 3",
   "language": "python",
   "name": "python3"
  },
  "language_info": {
   "codemirror_mode": {
    "name": "ipython",
    "version": 3
   },
   "file_extension": ".py",
   "mimetype": "text/x-python",
   "name": "python",
   "nbconvert_exporter": "python",
   "pygments_lexer": "ipython3",
   "version": "3.6.5"
  }
 },
 "nbformat": 4,
 "nbformat_minor": 2
}
